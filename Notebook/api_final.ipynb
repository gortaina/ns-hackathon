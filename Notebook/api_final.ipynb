{
 "cells": [
  {
   "cell_type": "markdown",
   "metadata": {},
   "source": [
    "# Dependencias adicionais"
   ]
  },
  {
   "cell_type": "code",
   "execution_count": 1,
   "metadata": {},
   "outputs": [
    {
     "name": "stderr",
     "output_type": "stream",
     "text": [
      "[nltk_data] Downloading package stopwords to\n",
      "[nltk_data]     /home/jupyter/nltk_data...\n",
      "[nltk_data]   Package stopwords is already up-to-date!\n"
     ]
    },
    {
     "name": "stdout",
     "output_type": "stream",
     "text": [
      "Requirement already satisfied: unidecode in ./.local/lib/python3.5/site-packages\n",
      "Requirement already satisfied: joblib in /usr/local/lib/python3.5/dist-packages\n",
      "Requirement already satisfied: flask_restful in ./.local/lib/python3.5/site-packages\n",
      "Requirement already satisfied: six>=1.3.0 in /usr/local/lib/python3.5/dist-packages (from flask_restful)\n",
      "Requirement already satisfied: aniso8601>=0.82 in ./.local/lib/python3.5/site-packages (from flask_restful)\n",
      "Requirement already satisfied: pytz in /usr/local/lib/python3.5/dist-packages (from flask_restful)\n",
      "Requirement already satisfied: Flask>=0.8 in ./.local/lib/python3.5/site-packages (from flask_restful)\n",
      "Requirement already satisfied: Jinja2>=2.10.1 in /usr/local/lib/python3.5/dist-packages (from Flask>=0.8->flask_restful)\n",
      "Requirement already satisfied: click>=5.1 in /usr/local/lib/python3.5/dist-packages (from Flask>=0.8->flask_restful)\n",
      "Requirement already satisfied: itsdangerous>=0.24 in ./.local/lib/python3.5/site-packages (from Flask>=0.8->flask_restful)\n",
      "Requirement already satisfied: Werkzeug>=0.15 in /usr/local/lib/python3.5/dist-packages (from Flask>=0.8->flask_restful)\n",
      "Requirement already satisfied: MarkupSafe>=0.23 in /usr/local/lib/python3.5/dist-packages (from Jinja2>=2.10.1->Flask>=0.8->flask_restful)\n",
      "Requirement already satisfied: unidecode in /opt/anaconda3/lib/python3.7/site-packages (1.1.1)\n",
      "Requirement already satisfied: joblib in /opt/anaconda3/lib/python3.7/site-packages (0.13.2)\n",
      "Requirement already satisfied: flask_restful in /opt/anaconda3/lib/python3.7/site-packages (0.3.7)\n",
      "Requirement already satisfied: six>=1.3.0 in /opt/anaconda3/lib/python3.7/site-packages (from flask_restful) (1.12.0)\n",
      "Requirement already satisfied: aniso8601>=0.82 in /opt/anaconda3/lib/python3.7/site-packages (from flask_restful) (8.0.0)\n",
      "Requirement already satisfied: pytz in /opt/anaconda3/lib/python3.7/site-packages (from flask_restful) (2019.2)\n",
      "Requirement already satisfied: Flask>=0.8 in /opt/anaconda3/lib/python3.7/site-packages (from flask_restful) (1.1.1)\n",
      "Requirement already satisfied: Jinja2>=2.10.1 in /opt/anaconda3/lib/python3.7/site-packages (from Flask>=0.8->flask_restful) (2.10.1)\n",
      "Requirement already satisfied: itsdangerous>=0.24 in /opt/anaconda3/lib/python3.7/site-packages (from Flask>=0.8->flask_restful) (1.1.0)\n",
      "Requirement already satisfied: click>=5.1 in /opt/anaconda3/lib/python3.7/site-packages (from Flask>=0.8->flask_restful) (7.0)\n",
      "Requirement already satisfied: Werkzeug>=0.15 in /opt/anaconda3/lib/python3.7/site-packages (from Flask>=0.8->flask_restful) (0.15.5)\n",
      "Requirement already satisfied: MarkupSafe>=0.23 in /opt/anaconda3/lib/python3.7/site-packages (from Jinja2>=2.10.1->Flask>=0.8->flask_restful) (1.1.1)\n"
     ]
    }
   ],
   "source": [
    "# Dependencias do preprocessamento\n",
    "import nltk\n",
    "nltk.download(\"stopwords\")\n",
    "!pip3 install unidecode joblib flask_restful\n",
    "!pip install unidecode joblib flask_restful"
   ]
  },
  {
   "cell_type": "code",
   "execution_count": 59,
   "metadata": {},
   "outputs": [],
   "source": [
    "# Necessario para treinar modelo usando os cuda cores\n",
    "#!conda install -y -c rapidsai -c nvidia -c numba -c conda-forge -c anaconda cudf=0.9 cuml=0.9 cugraph=0.9 python=3.7 anaconda::cudatoolkit=10.0"
   ]
  },
  {
   "cell_type": "markdown",
   "metadata": {},
   "source": [
    "# Solução"
   ]
  },
  {
   "cell_type": "code",
   "execution_count": 2,
   "metadata": {},
   "outputs": [
    {
     "name": "stdout",
     "output_type": "stream",
     "text": [
      "Client creating using default project: hackathon-08\n"
     ]
    }
   ],
   "source": [
    "from google.cloud import bigquery\n",
    "import pandas as pd\n",
    "import missingno as msno\n",
    "import nltk\n",
    "import numpy as np\n",
    "\n",
    "client = bigquery.Client(location=\"US\")\n",
    "print(\"Client creating using default project: {}\".format(client.project))"
   ]
  },
  {
   "cell_type": "markdown",
   "metadata": {},
   "source": [
    "## Data Ingestion"
   ]
  },
  {
   "cell_type": "code",
   "execution_count": 45,
   "metadata": {},
   "outputs": [],
   "source": [
    "query = \"\"\"\n",
    "SELECT\n",
    "    eanIsbn,\n",
    "    nome,\n",
    "    categoria,\n",
    "    subCategoriaNivel4,\n",
    "    departamento,\n",
    "    tipoProduto,\n",
    "    cor,\n",
    "    sabor,\n",
    "    tamanho,\n",
    "    skuReferencia,\n",
    "    skuNetshoes,\n",
    "    precoPor,\n",
    "    precoDe,\n",
    "    valorGenero,\n",
    "    peso,\n",
    "    marca,\n",
    "    dimensao.altura,\n",
    "    dimensao.largura,\n",
    "    dimensao.profundidade,\n",
    "    descricao,\n",
    "    nomeGenero,\n",
    "    CASE\n",
    "      WHEN skuReferencia IS NOT NULL AND skuNetshoes IS NULL THEN skuReferencia\n",
    "      ELSE skuNetshoes\n",
    "    END as skuNetshoesReferencia\n",
    "    FROM `hackathon-08.dadosbrutos.sellerProducts`\n",
    "    WHERE \n",
    "    (skuReferencia IS NULL and statusProdutoLojista.statusLojista = \"APROVADO\" and skuNetshoes IS NOT NULL\n",
    "    OR\n",
    "    skuReferencia IS NOT NULL and statusProdutoLojista.statusLojista = \"APROVADO\" and skuNetshoes IS NULL\n",
    "    OR\n",
    "    skuReferencia IS NOT NULL and statusProdutoLojista.statusLojista = \"APROVADO\" and skuNetshoes IS NOT NULL)\n",
    "    LIMIT 10000\n",
    "\"\"\"\n",
    "query_job = client.query(\n",
    "    query,\n",
    "    # Location must match that of the dataset(s) referenced in the query.\n",
    "    location=\"US\",\n",
    ")  # API request - starts the query\n",
    "\n",
    "df_big_query = query_job.to_dataframe()"
   ]
  },
  {
   "cell_type": "code",
   "execution_count": 36,
   "metadata": {},
   "outputs": [],
   "source": [
    "df_big_query.to_csv('raw_data.csv', index=False)"
   ]
  },
  {
   "cell_type": "code",
   "execution_count": 52,
   "metadata": {},
   "outputs": [
    {
     "data": {
      "text/plain": [
       "Index(['eanIsbn', 'nome', 'categoria', 'subCategoriaNivel4', 'departamento',\n",
       "       'tipoProduto', 'cor', 'sabor', 'tamanho', 'skuReferencia',\n",
       "       'skuNetshoes', 'precoPor', 'precoDe', 'valorGenero', 'peso', 'marca',\n",
       "       'altura', 'largura', 'profundidade', 'descricao', 'nomeGenero',\n",
       "       'skuNetshoesReferencia'],\n",
       "      dtype='object')"
      ]
     },
     "execution_count": 52,
     "metadata": {},
     "output_type": "execute_result"
    }
   ],
   "source": [
    "df_big_query = pd.read_csv('raw_data.csv')\n",
    "df_big_query.columns"
   ]
  },
  {
   "cell_type": "markdown",
   "metadata": {},
   "source": [
    "# Data preprocessing"
   ]
  },
  {
   "cell_type": "code",
   "execution_count": 53,
   "metadata": {},
   "outputs": [],
   "source": [
    "from sklearn.feature_extraction.text import TfidfVectorizer\n",
    "from unidecode import unidecode\n",
    "from sklearn.preprocessing import StandardScaler\n",
    "from sklearn.impute import SimpleImputer as Imputer\n",
    "import joblib "
   ]
  },
  {
   "cell_type": "code",
   "execution_count": 54,
   "metadata": {},
   "outputs": [],
   "source": [
    "def normalize(s):\n",
    "    if str(s) == 'nan' or type(s) == type(None):\n",
    "        return \"\"\n",
    "    return unidecode(str(s)).lower()"
   ]
  },
  {
   "cell_type": "code",
   "execution_count": 56,
   "metadata": {},
   "outputs": [],
   "source": [
    "def data_preprocessing(df, training=True):\n",
    "    # Concatena colunas de texto\n",
    "    df['descr'] = df.apply(lambda r: f\"{r['nome']} {r['descricao']} {r['eanIsbn']}\", axis=1)\n",
    "    _ = df.pop('nome')\n",
    "    _ = df.pop('descricao')\n",
    "    _ = df.pop('eanIsbn')\n",
    "    \n",
    "    if training:\n",
    "        _ = df.pop('skuReferencia')\n",
    "        _ = df.pop('skuNetshoes')\n",
    "    \n",
    "    del _\n",
    "    \n",
    "    text_cols = ['categoria', 'subCategoriaNivel4', 'departamento', 'tipoProduto', 'cor', 'sabor', 'tamanho', 'valorGenero', 'marca', 'nomeGenero', 'descr']\n",
    "\n",
    "    for col in text_cols:\n",
    "        df[col] = df[col].apply(normalize)\n",
    "        df[col] = pd.Categorical(df[col])\n",
    "\n",
    "    for col in text_cols:\n",
    "        if col == 'descr':\n",
    "            continue\n",
    "        dummies = pd.get_dummies(df[col], prefix=col, dummy_na=True).iloc[:, :-1]\n",
    "        df = pd.concat([df, dummies], axis=1)\n",
    "        _ = df.pop(col)\n",
    "        \n",
    "    stop_words = nltk.corpus.stopwords.words(\"portuguese\")\n",
    "    \n",
    "    if training:\n",
    "        tvec = TfidfVectorizer(min_df=.1, max_df=.2, stop_words=stop_words, ngram_range=(1, 2))\n",
    "        tvec_weights = tvec.fit_transform(df.descr)\n",
    "        joblib.dump(tvec, 'tvecModel.pkl')\n",
    "    else:\n",
    "        tvec = joblib.load('tvecModel.pkl')\n",
    "        tvec_weights = tvec.transform(df.descr)\n",
    "    \n",
    "    descr_w = pd.DataFrame(tvec_weights.todense())\n",
    "\n",
    "    _ = df.pop('descr')\n",
    "\n",
    "    df = pd.concat([df, descr_w], axis=1)\n",
    "    \n",
    "    if training:\n",
    "        y = df.pop('skuNetshoesReferencia').values\n",
    "        \n",
    "    X = df.iloc[:, :].values\n",
    "    \n",
    "    if training:\n",
    "        # Treina Standard Scaler \n",
    "        std_scaler = StandardScaler()\n",
    "        X = std_scaler.fit_transform(X)\n",
    "        joblib.dump(std_scaler, 'StandardScalerModel.pkl')\n",
    "    else:\n",
    "        std_scaler = joblib.load('StandardScalerModel.pkl')\n",
    "        print(X)\n",
    "        X = std_scaler.transform(X)\n",
    "    \n",
    "    if training:\n",
    "        imputer = Imputer(missing_values=np.nan, strategy='mean')\n",
    "        imputer = imputer.fit(X[:, :2])\n",
    "        joblib.dump(imputer, 'ImputerModel.pkl')\n",
    "        X[:, :2] = imputer.transform(X[:, :2])\n",
    "    else:\n",
    "        imputer = joblib.load('ImputerModel.pkl')\n",
    "        X[:, :2] = imputer.transform(X[:, :2])\n",
    "        \n",
    "    if training:\n",
    "        return X, y\n",
    "    else:\n",
    "        return X"
   ]
  },
  {
   "cell_type": "code",
   "execution_count": 67,
   "metadata": {},
   "outputs": [
    {
     "name": "stdout",
     "output_type": "stream",
     "text": [
      "[[nan nan 16.0 20.0 75.0 155.0 'MEA-0002-050-17' 1 1 1 1 1 1 1 1 1 1 0.0\n",
      "  0.0 0.0 0.0 0.0 0.0 0.0 0.0 0.0 0.0 0.0 0.0 0.0 0.0 0.0 0.0 0.0 0.0 0.0\n",
      "  0.0 0.0 0.0 0.0 0.0 0.0 0.0 0.0 0.0 0.0 0.0 0.0 0.0 0.0 0.0 0.0 0.0 0.0\n",
      "  0.0]]\n"
     ]
    },
    {
     "ename": "ValueError",
     "evalue": "could not convert string to float: 'MEA-0002-050-17'",
     "output_type": "error",
     "traceback": [
      "\u001b[0;31m---------------------------------------------------------------------------\u001b[0m",
      "\u001b[0;31mValueError\u001b[0m                                Traceback (most recent call last)",
      "\u001b[0;32m<ipython-input-67-4f0bc9d3373b>\u001b[0m in \u001b[0;36m<module>\u001b[0;34m\u001b[0m\n\u001b[0;32m----> 1\u001b[0;31m \u001b[0mdata_preprocessing\u001b[0m\u001b[0;34m(\u001b[0m\u001b[0mdf_big_query\u001b[0m\u001b[0;34m.\u001b[0m\u001b[0mloc\u001b[0m\u001b[0;34m[\u001b[0m\u001b[0;36m0\u001b[0m\u001b[0;34m:\u001b[0m\u001b[0;36m0\u001b[0m\u001b[0;34m,\u001b[0m\u001b[0;34m:\u001b[0m\u001b[0;34m]\u001b[0m\u001b[0;34m.\u001b[0m\u001b[0mcopy\u001b[0m\u001b[0;34m(\u001b[0m\u001b[0;34m)\u001b[0m\u001b[0;34m,\u001b[0m \u001b[0;32mFalse\u001b[0m\u001b[0;34m)\u001b[0m\u001b[0;34m\u001b[0m\u001b[0;34m\u001b[0m\u001b[0m\n\u001b[0m",
      "\u001b[0;32m<ipython-input-56-a83a4f080294>\u001b[0m in \u001b[0;36mdata_preprocessing\u001b[0;34m(df, training)\u001b[0m\n\u001b[1;32m     54\u001b[0m         \u001b[0mstd_scaler\u001b[0m \u001b[0;34m=\u001b[0m \u001b[0mjoblib\u001b[0m\u001b[0;34m.\u001b[0m\u001b[0mload\u001b[0m\u001b[0;34m(\u001b[0m\u001b[0;34m'StandardScalerModel.pkl'\u001b[0m\u001b[0;34m)\u001b[0m\u001b[0;34m\u001b[0m\u001b[0;34m\u001b[0m\u001b[0m\n\u001b[1;32m     55\u001b[0m         \u001b[0mprint\u001b[0m\u001b[0;34m(\u001b[0m\u001b[0mX\u001b[0m\u001b[0;34m)\u001b[0m\u001b[0;34m\u001b[0m\u001b[0;34m\u001b[0m\u001b[0m\n\u001b[0;32m---> 56\u001b[0;31m         \u001b[0mX\u001b[0m \u001b[0;34m=\u001b[0m \u001b[0mstd_scaler\u001b[0m\u001b[0;34m.\u001b[0m\u001b[0mtransform\u001b[0m\u001b[0;34m(\u001b[0m\u001b[0mX\u001b[0m\u001b[0;34m)\u001b[0m\u001b[0;34m\u001b[0m\u001b[0;34m\u001b[0m\u001b[0m\n\u001b[0m\u001b[1;32m     57\u001b[0m \u001b[0;34m\u001b[0m\u001b[0m\n\u001b[1;32m     58\u001b[0m     \u001b[0;32mif\u001b[0m \u001b[0mtraining\u001b[0m\u001b[0;34m:\u001b[0m\u001b[0;34m\u001b[0m\u001b[0;34m\u001b[0m\u001b[0m\n",
      "\u001b[0;32m/opt/anaconda3/lib/python3.7/site-packages/sklearn/preprocessing/data.py\u001b[0m in \u001b[0;36mtransform\u001b[0;34m(self, X, copy)\u001b[0m\n\u001b[1;32m    756\u001b[0m         X = check_array(X, accept_sparse='csr', copy=copy,\n\u001b[1;32m    757\u001b[0m                         \u001b[0mestimator\u001b[0m\u001b[0;34m=\u001b[0m\u001b[0mself\u001b[0m\u001b[0;34m,\u001b[0m \u001b[0mdtype\u001b[0m\u001b[0;34m=\u001b[0m\u001b[0mFLOAT_DTYPES\u001b[0m\u001b[0;34m,\u001b[0m\u001b[0;34m\u001b[0m\u001b[0;34m\u001b[0m\u001b[0m\n\u001b[0;32m--> 758\u001b[0;31m                         force_all_finite='allow-nan')\n\u001b[0m\u001b[1;32m    759\u001b[0m \u001b[0;34m\u001b[0m\u001b[0m\n\u001b[1;32m    760\u001b[0m         \u001b[0;32mif\u001b[0m \u001b[0msparse\u001b[0m\u001b[0;34m.\u001b[0m\u001b[0missparse\u001b[0m\u001b[0;34m(\u001b[0m\u001b[0mX\u001b[0m\u001b[0;34m)\u001b[0m\u001b[0;34m:\u001b[0m\u001b[0;34m\u001b[0m\u001b[0;34m\u001b[0m\u001b[0m\n",
      "\u001b[0;32m/opt/anaconda3/lib/python3.7/site-packages/sklearn/utils/validation.py\u001b[0m in \u001b[0;36mcheck_array\u001b[0;34m(array, accept_sparse, accept_large_sparse, dtype, order, copy, force_all_finite, ensure_2d, allow_nd, ensure_min_samples, ensure_min_features, warn_on_dtype, estimator)\u001b[0m\n\u001b[1;32m    494\u001b[0m             \u001b[0;32mtry\u001b[0m\u001b[0;34m:\u001b[0m\u001b[0;34m\u001b[0m\u001b[0;34m\u001b[0m\u001b[0m\n\u001b[1;32m    495\u001b[0m                 \u001b[0mwarnings\u001b[0m\u001b[0;34m.\u001b[0m\u001b[0msimplefilter\u001b[0m\u001b[0;34m(\u001b[0m\u001b[0;34m'error'\u001b[0m\u001b[0;34m,\u001b[0m \u001b[0mComplexWarning\u001b[0m\u001b[0;34m)\u001b[0m\u001b[0;34m\u001b[0m\u001b[0;34m\u001b[0m\u001b[0m\n\u001b[0;32m--> 496\u001b[0;31m                 \u001b[0marray\u001b[0m \u001b[0;34m=\u001b[0m \u001b[0mnp\u001b[0m\u001b[0;34m.\u001b[0m\u001b[0masarray\u001b[0m\u001b[0;34m(\u001b[0m\u001b[0marray\u001b[0m\u001b[0;34m,\u001b[0m \u001b[0mdtype\u001b[0m\u001b[0;34m=\u001b[0m\u001b[0mdtype\u001b[0m\u001b[0;34m,\u001b[0m \u001b[0morder\u001b[0m\u001b[0;34m=\u001b[0m\u001b[0morder\u001b[0m\u001b[0;34m)\u001b[0m\u001b[0;34m\u001b[0m\u001b[0;34m\u001b[0m\u001b[0m\n\u001b[0m\u001b[1;32m    497\u001b[0m             \u001b[0;32mexcept\u001b[0m \u001b[0mComplexWarning\u001b[0m\u001b[0;34m:\u001b[0m\u001b[0;34m\u001b[0m\u001b[0;34m\u001b[0m\u001b[0m\n\u001b[1;32m    498\u001b[0m                 raise ValueError(\"Complex data not supported\\n\"\n",
      "\u001b[0;32m/opt/anaconda3/lib/python3.7/site-packages/numpy/core/numeric.py\u001b[0m in \u001b[0;36masarray\u001b[0;34m(a, dtype, order)\u001b[0m\n\u001b[1;32m    536\u001b[0m \u001b[0;34m\u001b[0m\u001b[0m\n\u001b[1;32m    537\u001b[0m     \"\"\"\n\u001b[0;32m--> 538\u001b[0;31m     \u001b[0;32mreturn\u001b[0m \u001b[0marray\u001b[0m\u001b[0;34m(\u001b[0m\u001b[0ma\u001b[0m\u001b[0;34m,\u001b[0m \u001b[0mdtype\u001b[0m\u001b[0;34m,\u001b[0m \u001b[0mcopy\u001b[0m\u001b[0;34m=\u001b[0m\u001b[0;32mFalse\u001b[0m\u001b[0;34m,\u001b[0m \u001b[0morder\u001b[0m\u001b[0;34m=\u001b[0m\u001b[0morder\u001b[0m\u001b[0;34m)\u001b[0m\u001b[0;34m\u001b[0m\u001b[0;34m\u001b[0m\u001b[0m\n\u001b[0m\u001b[1;32m    539\u001b[0m \u001b[0;34m\u001b[0m\u001b[0m\n\u001b[1;32m    540\u001b[0m \u001b[0;34m\u001b[0m\u001b[0m\n",
      "\u001b[0;31mValueError\u001b[0m: could not convert string to float: 'MEA-0002-050-17'"
     ]
    }
   ],
   "source": [
    "\n",
    "data_preprocessing(df_big_query.loc[0:0,:].copy(), False)\n"
   ]
  },
  {
   "cell_type": "code",
   "execution_count": 41,
   "metadata": {},
   "outputs": [],
   "source": [
    "X, y = data_preprocessing(df_big_query, training=True)"
   ]
  },
  {
   "cell_type": "markdown",
   "metadata": {},
   "source": [
    "## Treina modelo na CPU"
   ]
  },
  {
   "cell_type": "code",
   "execution_count": 8,
   "metadata": {},
   "outputs": [],
   "source": [
    "from sklearn.neighbors import KNeighborsClassifier as knn"
   ]
  },
  {
   "cell_type": "code",
   "execution_count": 9,
   "metadata": {},
   "outputs": [
    {
     "name": "stdout",
     "output_type": "stream",
     "text": [
      "CPU times: user 26.4 s, sys: 92 ms, total: 26.4 s\n",
      "Wall time: 26.3 s\n"
     ]
    }
   ],
   "source": [
    "%%time\n",
    "classifier = knn(n_neighbors=1)\n",
    "classifier.fit(X, y)\n",
    "y_pred_cpu = classifier.kneighbors(X, 1)"
   ]
  },
  {
   "cell_type": "markdown",
   "metadata": {},
   "source": [
    "## Treina modelo na GPU"
   ]
  },
  {
   "cell_type": "code",
   "execution_count": 10,
   "metadata": {},
   "outputs": [],
   "source": [
    "#from cuml.neighbors import NearestNeighbors as cumlNN\n",
    "#import cudf as gd"
   ]
  },
  {
   "cell_type": "code",
   "execution_count": 11,
   "metadata": {},
   "outputs": [],
   "source": [
    "#X1 = pd.DataFrame(X)"
   ]
  },
  {
   "cell_type": "code",
   "execution_count": 12,
   "metadata": {},
   "outputs": [],
   "source": [
    "#device_data = gd.DataFrame.from_pandas(X1)"
   ]
  },
  {
   "cell_type": "code",
   "execution_count": 13,
   "metadata": {},
   "outputs": [],
   "source": [
    "#%%time\n",
    "#knn_cuml = cumlNN(n_neighbors=1)\n",
    "#knn_cuml.fit(device_data)\n",
    "\n",
    "#y_pred = knn_cuml.kneighbors(X, 2)"
   ]
  },
  {
   "cell_type": "code",
   "execution_count": null,
   "metadata": {},
   "outputs": [],
   "source": [
    "        "
   ]
  },
  {
   "cell_type": "markdown",
   "metadata": {},
   "source": [
    "## API Server"
   ]
  },
  {
   "cell_type": "code",
   "execution_count": 51,
   "metadata": {},
   "outputs": [
    {
     "name": "stdout",
     "output_type": "stream",
     "text": [
      " * Serving Flask app \"__main__\" (lazy loading)\n",
      " * Environment: production\n",
      "   WARNING: This is a development server. Do not use it in a production deployment.\n",
      "   Use a production WSGI server instead.\n",
      " * Debug mode: on\n"
     ]
    },
    {
     "name": "stderr",
     "output_type": "stream",
     "text": [
      " * Running on http://127.0.0.1:8041/ (Press CTRL+C to quit)\n",
      "127.0.0.1 - - [29/Sep/2019 12:25:51] \"GET /?eanLSBN=7897571148506&nome=Bicicleta&categoria=&subCatN4=&departamento=Bike&tipoProduto=Bicicletas&cor=Preto+Laranja&sabor=&tamanho=17&precoPor=&precoDe=&valorGenero=Homem&peso=16&marca=XKS&altura=20&largura=75&profundidade=155.0&descricao=Bicicleta&nomeGenero=Geanero HTTP/1.1\" 500 -\n"
     ]
    },
    {
     "name": "stdout",
     "output_type": "stream",
     "text": [
      "[['' '' '16' '20' '75' '155.0' 1 1 1 1 1 1 1 1 1 1 0.0 0.0 0.0 0.0 0.0\n",
      "  0.0 0.0 0.0 0.0 0.0 0.0 0.0 0.0 0.0 0.0 0.0 0.0 0.0 0.0 0.0 0.0 0.0 0.0\n",
      "  0.0 0.0 0.0 0.0 0.0 0.0 0.0 0.0 0.0 0.0 0.0 0.0 0.0 0.0 0.0]]\n"
     ]
    },
    {
     "name": "stderr",
     "output_type": "stream",
     "text": [
      "Traceback (most recent call last):\n",
      "  File \"/opt/anaconda3/lib/python3.7/site-packages/flask/app.py\", line 2463, in __call__\n",
      "    return self.wsgi_app(environ, start_response)\n",
      "  File \"/opt/anaconda3/lib/python3.7/site-packages/flask/app.py\", line 2449, in wsgi_app\n",
      "    response = self.handle_exception(e)\n",
      "  File \"/opt/anaconda3/lib/python3.7/site-packages/flask_restful/__init__.py\", line 269, in error_router\n",
      "    return original_handler(e)\n",
      "  File \"/opt/anaconda3/lib/python3.7/site-packages/flask/app.py\", line 1866, in handle_exception\n",
      "    reraise(exc_type, exc_value, tb)\n",
      "  File \"/opt/anaconda3/lib/python3.7/site-packages/flask/_compat.py\", line 38, in reraise\n",
      "    raise value.with_traceback(tb)\n",
      "  File \"/opt/anaconda3/lib/python3.7/site-packages/flask/app.py\", line 2446, in wsgi_app\n",
      "    response = self.full_dispatch_request()\n",
      "  File \"/opt/anaconda3/lib/python3.7/site-packages/flask/app.py\", line 1951, in full_dispatch_request\n",
      "    rv = self.handle_user_exception(e)\n",
      "  File \"/opt/anaconda3/lib/python3.7/site-packages/flask_restful/__init__.py\", line 269, in error_router\n",
      "    return original_handler(e)\n",
      "  File \"/opt/anaconda3/lib/python3.7/site-packages/flask/app.py\", line 1820, in handle_user_exception\n",
      "    reraise(exc_type, exc_value, tb)\n",
      "  File \"/opt/anaconda3/lib/python3.7/site-packages/flask/_compat.py\", line 38, in reraise\n",
      "    raise value.with_traceback(tb)\n",
      "  File \"/opt/anaconda3/lib/python3.7/site-packages/flask/app.py\", line 1949, in full_dispatch_request\n",
      "    rv = self.dispatch_request()\n",
      "  File \"/opt/anaconda3/lib/python3.7/site-packages/flask/app.py\", line 1935, in dispatch_request\n",
      "    return self.view_functions[rule.endpoint](**req.view_args)\n",
      "  File \"/opt/anaconda3/lib/python3.7/site-packages/flask_restful/__init__.py\", line 458, in wrapper\n",
      "    resp = resource(*args, **kwargs)\n",
      "  File \"/opt/anaconda3/lib/python3.7/site-packages/flask/views.py\", line 89, in view\n",
      "    return self.dispatch_request(*args, **kwargs)\n",
      "  File \"/opt/anaconda3/lib/python3.7/site-packages/flask_restful/__init__.py\", line 573, in dispatch_request\n",
      "    resp = meth(*args, **kwargs)\n",
      "  File \"<ipython-input-51-9e1034912239>\", line 47, in get\n",
      "    \n",
      "  File \"<ipython-input-50-a83a4f080294>\", line 56, in data_preprocessing\n",
      "    \n",
      "  File \"/opt/anaconda3/lib/python3.7/site-packages/sklearn/preprocessing/data.py\", line 758, in transform\n",
      "    force_all_finite='allow-nan')\n",
      "  File \"/opt/anaconda3/lib/python3.7/site-packages/sklearn/utils/validation.py\", line 496, in check_array\n",
      "    array = np.asarray(array, dtype=dtype, order=order)\n",
      "  File \"/opt/anaconda3/lib/python3.7/site-packages/numpy/core/numeric.py\", line 538, in asarray\n",
      "    return array(a, dtype, copy=False, order=order)\n",
      "ValueError: could not convert string to float:\n",
      "127.0.0.1 - - [29/Sep/2019 12:26:41] \"GET /?eanLSBN=7897571148506&nome=Bicicleta&categoria=&subCatN4=&departamento=Bike&tipoProduto=Bicicletas&cor=Preto+Laranja&sabor=&tamanho=17&precoPor=0&precoDe=0&valorGenero=Homem&peso=16&marca=XKS&altura=20&largura=75&profundidade=155.0&descricao=Bicicleta&nomeGenero=Geanero HTTP/1.1\" 500 -\n"
     ]
    },
    {
     "name": "stdout",
     "output_type": "stream",
     "text": [
      "[['0' '0' '16' '20' '75' '155.0' 1 1 1 1 1 1 1 1 1 1 0.0 0.0 0.0 0.0 0.0\n",
      "  0.0 0.0 0.0 0.0 0.0 0.0 0.0 0.0 0.0 0.0 0.0 0.0 0.0 0.0 0.0 0.0 0.0 0.0\n",
      "  0.0 0.0 0.0 0.0 0.0 0.0 0.0 0.0 0.0 0.0 0.0 0.0 0.0 0.0 0.0]]\n"
     ]
    },
    {
     "name": "stderr",
     "output_type": "stream",
     "text": [
      "Traceback (most recent call last):\n",
      "  File \"/opt/anaconda3/lib/python3.7/site-packages/flask/app.py\", line 2463, in __call__\n",
      "    return self.wsgi_app(environ, start_response)\n",
      "  File \"/opt/anaconda3/lib/python3.7/site-packages/flask/app.py\", line 2449, in wsgi_app\n",
      "    response = self.handle_exception(e)\n",
      "  File \"/opt/anaconda3/lib/python3.7/site-packages/flask_restful/__init__.py\", line 269, in error_router\n",
      "    return original_handler(e)\n",
      "  File \"/opt/anaconda3/lib/python3.7/site-packages/flask/app.py\", line 1866, in handle_exception\n",
      "    reraise(exc_type, exc_value, tb)\n",
      "  File \"/opt/anaconda3/lib/python3.7/site-packages/flask/_compat.py\", line 38, in reraise\n",
      "    raise value.with_traceback(tb)\n",
      "  File \"/opt/anaconda3/lib/python3.7/site-packages/flask/app.py\", line 2446, in wsgi_app\n",
      "    response = self.full_dispatch_request()\n",
      "  File \"/opt/anaconda3/lib/python3.7/site-packages/flask/app.py\", line 1951, in full_dispatch_request\n",
      "    rv = self.handle_user_exception(e)\n",
      "  File \"/opt/anaconda3/lib/python3.7/site-packages/flask_restful/__init__.py\", line 269, in error_router\n",
      "    return original_handler(e)\n",
      "  File \"/opt/anaconda3/lib/python3.7/site-packages/flask/app.py\", line 1820, in handle_user_exception\n",
      "    reraise(exc_type, exc_value, tb)\n",
      "  File \"/opt/anaconda3/lib/python3.7/site-packages/flask/_compat.py\", line 38, in reraise\n",
      "    raise value.with_traceback(tb)\n",
      "  File \"/opt/anaconda3/lib/python3.7/site-packages/flask/app.py\", line 1949, in full_dispatch_request\n",
      "    rv = self.dispatch_request()\n",
      "  File \"/opt/anaconda3/lib/python3.7/site-packages/flask/app.py\", line 1935, in dispatch_request\n",
      "    return self.view_functions[rule.endpoint](**req.view_args)\n",
      "  File \"/opt/anaconda3/lib/python3.7/site-packages/flask_restful/__init__.py\", line 458, in wrapper\n",
      "    resp = resource(*args, **kwargs)\n",
      "  File \"/opt/anaconda3/lib/python3.7/site-packages/flask/views.py\", line 89, in view\n",
      "    return self.dispatch_request(*args, **kwargs)\n",
      "  File \"/opt/anaconda3/lib/python3.7/site-packages/flask_restful/__init__.py\", line 573, in dispatch_request\n",
      "    resp = meth(*args, **kwargs)\n",
      "  File \"<ipython-input-51-9e1034912239>\", line 47, in get\n",
      "    \n",
      "  File \"<ipython-input-50-a83a4f080294>\", line 56, in data_preprocessing\n",
      "    \n",
      "  File \"/opt/anaconda3/lib/python3.7/site-packages/sklearn/preprocessing/data.py\", line 769, in transform\n",
      "    X -= self.mean_\n",
      "ValueError: operands could not be broadcast together with shapes (1,54) (1198,) (1,54)\n"
     ]
    }
   ],
   "source": [
    "from flask import Flask, request\n",
    "from flask_restful import Resource, Api\n",
    "\n",
    "app = Flask(__name__)\n",
    "api = Api(app)\n",
    "\n",
    "data = []\n",
    "columns = []\n",
    "\n",
    "class HelloWorld(Resource):\n",
    "    def get(self):\n",
    "        args = request.args\n",
    "\n",
    "        \n",
    "        nome = args[\"nome\"]\n",
    "        categoria = args[\"categoria\"]\n",
    "        cor = args[\"cor\"]\n",
    "        sabor = args[\"sabor\"]\n",
    "        eanIsbn = args[\"eanLSBN\"]\n",
    "        departamento = args[\"departamento\"]\n",
    "        tipoProduto = args[\"tipoProduto\"]\n",
    "        tamanho = args[\"tamanho\"]\n",
    "        precoDe = args[\"precoDe\"]\n",
    "        precoPor = args[\"precoPor\"]\n",
    "        subCategoriaNivel4 = args[\"subCatN4\"]\n",
    "        descricao = args[\"descricao\"]\n",
    "        valorGenero = args[\"valorGenero\"]\n",
    "        peso = args[\"peso\"]\n",
    "        marca = args[\"marca\"]\n",
    "        altura = args[\"altura\"]\n",
    "        largura = args[\"largura\"]\n",
    "        profundidade = args[\"profundidade\"]\n",
    "        nomeGenero = args[\"nomeGenero\"]\n",
    "        \n",
    "        data = [eanIsbn, nome, categoria, subCategoriaNivel4, departamento,\n",
    "                tipoProduto, cor, sabor, tamanho, precoPor, precoDe, valorGenero, \n",
    "                peso, marca, altura, largura, profundidade, descricao, nomeGenero]\n",
    "        \n",
    "        columns=['eanIsbn', 'nome', 'categoria', 'subCategoriaNivel4', 'departamento',\n",
    "                'tipoProduto', 'cor', 'sabor', 'tamanho', 'precoPor', 'precoDe', 'valorGenero',\n",
    "                 'peso', 'marca', 'altura', 'largura', 'profundidade', 'descricao', 'nomeGenero']\n",
    "        \n",
    "        data_dict = {k:[v] for k, v in zip(columns, data)}\n",
    "        \n",
    "        data = pd.DataFrame(data=data_dict)\n",
    "        \n",
    "        X = data_preprocessing(data, training=False)\n",
    "        pred_y = classifier.predict(X)\n",
    "        \n",
    "#         dados_produto = df_big_query.query('skuNetshoesReferencia == @pred_y[0]')\n",
    "#         response = dados_produto.loc[0, columns].to_json()\n",
    "        \n",
    "        return \"\"#response\n",
    "\n",
    "api.add_resource(HelloWorld, '/')\n",
    "\n",
    "if __name__ == '__main__':\n",
    "    app.run(debug=True, port=8041, use_reloader=False)"
   ]
  },
  {
   "cell_type": "code",
   "execution_count": 29,
   "metadata": {},
   "outputs": [
    {
     "data": {
      "text/plain": [
       "'asd_asd'"
      ]
     },
     "execution_count": 29,
     "metadata": {},
     "output_type": "execute_result"
    }
   ],
   "source": [
    "%debug"
   ]
  },
  {
   "cell_type": "code",
   "execution_count": 47,
   "metadata": {},
   "outputs": [
    {
     "data": {
      "text/plain": [
       "'{\"eanIsbn\":\"7897571148506\",\"nome\":\"Bicicleta Xks Aro 29 Fd 21V Qd17 Prt La\",\"categoria\":null,\"subCategoriaNivel4\":null,\"departamento\":\"Bike\",\"tipoProduto\":\"Bicicletas\",\"cor\":\"Preto+Laranja\",\"sabor\":null,\"tamanho\":\"17\",\"skuReferencia\":null,\"skuNetshoes\":\"MEA-0002-050-17\",\"precoPor\":null,\"precoDe\":null,\"valorGenero\":\"Homem\",\"peso\":16.0,\"marca\":\"XKS\",\"altura\":20.0,\"largura\":75.0,\"profundidade\":155.0,\"descricao\":\"Bicicleta Xks Aro 29 freio \\\\u00e1 disco, 21 marchas \\\\u00e9 a combina\\\\u00e7\\\\u00e3o perfeita com seus passeios e trilhas Garantindo todo o conforto e seguran\\\\u00e7a\",\"nomeGenero\":\"G\\\\u00eanero\",\"skuNetshoesReferencia\":\"MEA-0002-050-17\"}'"
      ]
     },
     "execution_count": 47,
     "metadata": {},
     "output_type": "execute_result"
    }
   ],
   "source": [
    "df_big_query.loc[0, :].to_json()"
   ]
  },
  {
   "cell_type": "code",
   "execution_count": 48,
   "metadata": {},
   "outputs": [
    {
     "data": {
      "text/plain": [
       "['asd_asd',\n",
       " 'asd_asd',\n",
       " 'asd_asd',\n",
       " 'asd_asd',\n",
       " 'asd_asd',\n",
       " 'asd_asd',\n",
       " 'asd_asd',\n",
       " 'asd_asd',\n",
       " 'asd_asd',\n",
       " 'asd_asd',\n",
       " 'asd_asd',\n",
       " 'asd_asd',\n",
       " 'asd_asd',\n",
       " 'asd_asd',\n",
       " 'asd_asd',\n",
       " 'asd_asd',\n",
       " 'asd_asd',\n",
       " 'asd_asd',\n",
       " 'asd_asd']"
      ]
     },
     "execution_count": 48,
     "metadata": {},
     "output_type": "execute_result"
    }
   ],
   "source": [
    "data"
   ]
  },
  {
   "cell_type": "code",
   "execution_count": 49,
   "metadata": {},
   "outputs": [
    {
     "data": {
      "text/plain": [
       "['eanIsbn',\n",
       " 'nome',\n",
       " 'categoria',\n",
       " 'subCategoriaNivel4',\n",
       " 'departamento',\n",
       " 'tipoProduto',\n",
       " 'cor',\n",
       " 'sabor',\n",
       " 'tamanho',\n",
       " 'precoPor',\n",
       " 'precoDe',\n",
       " 'valorGenero',\n",
       " 'peso',\n",
       " 'marca',\n",
       " 'altura',\n",
       " 'largura',\n",
       " 'profundidade',\n",
       " 'descricao',\n",
       " 'nomeGenero']"
      ]
     },
     "execution_count": 49,
     "metadata": {},
     "output_type": "execute_result"
    }
   ],
   "source": [
    "columns"
   ]
  },
  {
   "cell_type": "code",
   "execution_count": 52,
   "metadata": {},
   "outputs": [],
   "source": [
    "data_dict = {k:[v] for k, v in zip(columns, data)}"
   ]
  },
  {
   "cell_type": "code",
   "execution_count": 53,
   "metadata": {},
   "outputs": [],
   "source": [
    "data = pd.DataFrame(data=data_dict)"
   ]
  },
  {
   "cell_type": "code",
   "execution_count": 54,
   "metadata": {},
   "outputs": [
    {
     "data": {
      "text/html": [
       "<div>\n",
       "<style scoped>\n",
       "    .dataframe tbody tr th:only-of-type {\n",
       "        vertical-align: middle;\n",
       "    }\n",
       "\n",
       "    .dataframe tbody tr th {\n",
       "        vertical-align: top;\n",
       "    }\n",
       "\n",
       "    .dataframe thead th {\n",
       "        text-align: right;\n",
       "    }\n",
       "</style>\n",
       "<table border=\"1\" class=\"dataframe\">\n",
       "  <thead>\n",
       "    <tr style=\"text-align: right;\">\n",
       "      <th></th>\n",
       "      <th>eanIsbn</th>\n",
       "      <th>nome</th>\n",
       "      <th>categoria</th>\n",
       "      <th>subCategoriaNivel4</th>\n",
       "      <th>departamento</th>\n",
       "      <th>tipoProduto</th>\n",
       "      <th>cor</th>\n",
       "      <th>sabor</th>\n",
       "      <th>tamanho</th>\n",
       "      <th>precoPor</th>\n",
       "      <th>precoDe</th>\n",
       "      <th>valorGenero</th>\n",
       "      <th>peso</th>\n",
       "      <th>marca</th>\n",
       "      <th>altura</th>\n",
       "      <th>largura</th>\n",
       "      <th>profundidade</th>\n",
       "      <th>descricao</th>\n",
       "      <th>nomeGenero</th>\n",
       "    </tr>\n",
       "  </thead>\n",
       "  <tbody>\n",
       "    <tr>\n",
       "      <th>0</th>\n",
       "      <td>asd_asd</td>\n",
       "      <td>asd_asd</td>\n",
       "      <td>asd_asd</td>\n",
       "      <td>asd_asd</td>\n",
       "      <td>asd_asd</td>\n",
       "      <td>asd_asd</td>\n",
       "      <td>asd_asd</td>\n",
       "      <td>asd_asd</td>\n",
       "      <td>asd_asd</td>\n",
       "      <td>asd_asd</td>\n",
       "      <td>asd_asd</td>\n",
       "      <td>asd_asd</td>\n",
       "      <td>asd_asd</td>\n",
       "      <td>asd_asd</td>\n",
       "      <td>asd_asd</td>\n",
       "      <td>asd_asd</td>\n",
       "      <td>asd_asd</td>\n",
       "      <td>asd_asd</td>\n",
       "      <td>asd_asd</td>\n",
       "    </tr>\n",
       "  </tbody>\n",
       "</table>\n",
       "</div>"
      ],
      "text/plain": [
       "   eanIsbn     nome categoria subCategoriaNivel4 departamento tipoProduto  \\\n",
       "0  asd_asd  asd_asd   asd_asd            asd_asd      asd_asd     asd_asd   \n",
       "\n",
       "       cor    sabor  tamanho precoPor  precoDe valorGenero     peso    marca  \\\n",
       "0  asd_asd  asd_asd  asd_asd  asd_asd  asd_asd     asd_asd  asd_asd  asd_asd   \n",
       "\n",
       "    altura  largura profundidade descricao nomeGenero  \n",
       "0  asd_asd  asd_asd      asd_asd   asd_asd    asd_asd  "
      ]
     },
     "execution_count": 54,
     "metadata": {},
     "output_type": "execute_result"
    }
   ],
   "source": [
    "data"
   ]
  },
  {
   "cell_type": "code",
   "execution_count": null,
   "metadata": {},
   "outputs": [],
   "source": []
  }
 ],
 "metadata": {
  "kernelspec": {
   "display_name": "Python 3",
   "language": "python",
   "name": "python3"
  },
  "language_info": {
   "codemirror_mode": {
    "name": "ipython",
    "version": 3
   },
   "file_extension": ".py",
   "mimetype": "text/x-python",
   "name": "python",
   "nbconvert_exporter": "python",
   "pygments_lexer": "ipython3",
   "version": "3.7.4"
  }
 },
 "nbformat": 4,
 "nbformat_minor": 4
}
