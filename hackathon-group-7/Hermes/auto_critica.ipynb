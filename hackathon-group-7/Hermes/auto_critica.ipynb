{
  "nbformat": 4,
  "nbformat_minor": 0,
  "metadata": {
    "colab": {
      "name": "auto-critica.ipynb",
      "provenance": [],
      "collapsed_sections": []
    },
    "kernelspec": {
      "name": "python3",
      "display_name": "Python 3"
    },
    "accelerator": "GPU"
  },
  "cells": [
    {
      "cell_type": "code",
      "metadata": {
        "id": "VTWb3fEX0P4-",
        "colab_type": "code",
        "colab": {}
      },
      "source": [
        "import cv2\n",
        "import numpy as np\n",
        "from numpy import loadtxt\n",
        "import os\n",
        "import csv\n",
        "from random import shuffle\n",
        "from tqdm import tqdm\n",
        "import tensorflow as tf\n",
        "import matplotlib\n",
        "import matplotlib.pyplot as plt\n",
        "from keras.models import Sequential\n",
        "from keras.layers import *\n",
        "from keras.optimizers import *\n",
        "import keras\n",
        "import pandas as pd"
      ],
      "execution_count": 0,
      "outputs": []
    },
    {
      "cell_type": "code",
      "metadata": {
        "id": "dkcwXhjXc4Ba",
        "colab_type": "code",
        "outputId": "029bc3ca-d31a-496e-b009-a8800d4e547d",
        "colab": {
          "base_uri": "https://localhost:8080/",
          "height": 119
        }
      },
      "source": [
        "!git clone https://gitlab.com/gabrieldi95/shoes.git"
      ],
      "execution_count": 2,
      "outputs": [
        {
          "output_type": "stream",
          "text": [
            "Cloning into 'shoes'...\n",
            "remote: Enumerating objects: 616, done.\u001b[K\n",
            "remote: Counting objects: 100% (616/616), done.\u001b[K\n",
            "remote: Compressing objects: 100% (616/616), done.\u001b[K\n",
            "remote: Total 616 (delta 0), reused 616 (delta 0)\u001b[K\n",
            "Receiving objects: 100% (616/616), 98.51 MiB | 8.44 MiB/s, done.\n"
          ],
          "name": "stdout"
        }
      ]
    },
    {
      "cell_type": "code",
      "metadata": {
        "id": "QDhn_ev-uElK",
        "colab_type": "code",
        "outputId": "b8549706-4517-48b6-9f57-0c232bba86a1",
        "colab": {
          "base_uri": "https://localhost:8080/",
          "height": 34
        }
      },
      "source": [
        "ls shoes/"
      ],
      "execution_count": 4,
      "outputs": [
        {
          "output_type": "stream",
          "text": [
            "\u001b[0m\u001b[01;34mfinal\u001b[0m/  labels.csv\n"
          ],
          "name": "stdout"
        }
      ]
    },
    {
      "cell_type": "code",
      "metadata": {
        "id": "p1X9I0Kl_lOE",
        "colab_type": "code",
        "colab": {
          "base_uri": "https://localhost:8080/",
          "height": 258
        },
        "outputId": "f8955fa1-044a-4142-c917-55e0cb7bc161"
      },
      "source": [
        "labels = pd.DataFrame.from_csv(\"shoes/labels.csv\")\n",
        "labels = labels[labels['files'] != '404']\n",
        "labels.head()"
      ],
      "execution_count": 10,
      "outputs": [
        {
          "output_type": "stream",
          "text": [
            "/usr/local/lib/python3.6/dist-packages/ipykernel_launcher.py:1: FutureWarning: from_csv is deprecated. Please use read_csv(...) instead. Note that some of the default arguments are different, so please refer to the documentation for from_csv when changing your function calls\n",
            "  \"\"\"Entry point for launching an IPython kernel.\n"
          ],
          "name": "stderr"
        },
        {
          "output_type": "execute_result",
          "data": {
            "text/html": [
              "<div>\n",
              "<style scoped>\n",
              "    .dataframe tbody tr th:only-of-type {\n",
              "        vertical-align: middle;\n",
              "    }\n",
              "\n",
              "    .dataframe tbody tr th {\n",
              "        vertical-align: top;\n",
              "    }\n",
              "\n",
              "    .dataframe thead th {\n",
              "        text-align: right;\n",
              "    }\n",
              "</style>\n",
              "<table border=\"1\" class=\"dataframe\">\n",
              "  <thead>\n",
              "    <tr style=\"text-align: right;\">\n",
              "      <th></th>\n",
              "      <th>img</th>\n",
              "      <th>tipo</th>\n",
              "      <th>marca</th>\n",
              "      <th>files</th>\n",
              "    </tr>\n",
              "  </thead>\n",
              "  <tbody>\n",
              "    <tr>\n",
              "      <th>0</th>\n",
              "      <td>http://www.lojasportcenter.com.br/imagens/prod...</td>\n",
              "      <td>Tênis</td>\n",
              "      <td>Olympikus</td>\n",
              "      <td>0.jpg</td>\n",
              "    </tr>\n",
              "    <tr>\n",
              "      <th>2</th>\n",
              "      <td>http://newbalance.vteximg.com.br/arquivos/ids/...</td>\n",
              "      <td>Tênis</td>\n",
              "      <td>New Balance</td>\n",
              "      <td>1.jpg</td>\n",
              "    </tr>\n",
              "    <tr>\n",
              "      <th>4</th>\n",
              "      <td>https://cdnv2.moovin.com.br/couto_pe/imagens/p...</td>\n",
              "      <td>Tênis</td>\n",
              "      <td>Olympikus</td>\n",
              "      <td>2.jpg</td>\n",
              "    </tr>\n",
              "    <tr>\n",
              "      <th>5</th>\n",
              "      <td>http://www.cabanamagazine.com.br/image/catalog...</td>\n",
              "      <td>Tênis</td>\n",
              "      <td>Olympikus</td>\n",
              "      <td>3.jpg</td>\n",
              "    </tr>\n",
              "    <tr>\n",
              "      <th>6</th>\n",
              "      <td>http://images.tcdn.com.br/img/img_prod/626353/...</td>\n",
              "      <td>Tênis</td>\n",
              "      <td>Olympikus</td>\n",
              "      <td>4.jpg</td>\n",
              "    </tr>\n",
              "  </tbody>\n",
              "</table>\n",
              "</div>"
            ],
            "text/plain": [
              "                                                 img   tipo        marca  files\n",
              "0  http://www.lojasportcenter.com.br/imagens/prod...  Tênis    Olympikus  0.jpg\n",
              "2  http://newbalance.vteximg.com.br/arquivos/ids/...  Tênis  New Balance  1.jpg\n",
              "4  https://cdnv2.moovin.com.br/couto_pe/imagens/p...  Tênis    Olympikus  2.jpg\n",
              "5  http://www.cabanamagazine.com.br/image/catalog...  Tênis    Olympikus  3.jpg\n",
              "6  http://images.tcdn.com.br/img/img_prod/626353/...  Tênis    Olympikus  4.jpg"
            ]
          },
          "metadata": {
            "tags": []
          },
          "execution_count": 10
        }
      ]
    },
    {
      "cell_type": "code",
      "metadata": {
        "id": "1pjSng0q_7qV",
        "colab_type": "code",
        "colab": {}
      },
      "source": [
        "!rm shoes/final/707.jpg"
      ],
      "execution_count": 0,
      "outputs": []
    },
    {
      "cell_type": "code",
      "metadata": {
        "id": "U1_Ebxrc7lEf",
        "colab_type": "code",
        "outputId": "3275d10c-a623-42fe-e0aa-578487670a58",
        "colab": {
          "base_uri": "https://localhost:8080/",
          "height": 1000
        }
      },
      "source": [
        "data = 'shoes/final/'\n",
        "\n",
        "\n",
        "\n",
        "\n",
        "def label(img):\n",
        "    #img_label = labels[img].replace(' ', '').replace('\\n', '')\n",
        "    img_label = labels[labels['files'] == img].values[0][2]\n",
        "    if img_label == 'Adidas':     \n",
        "        return np.array([1, 0, 0], dtype='float32')\n",
        "    elif img_label == 'New Balance':\n",
        "        return np.array([0, 1, 0], dtype='float32')\n",
        "    elif img_label == 'Olympikus':\n",
        "        return np.array([0, 0, 1], dtype='float32')  \n",
        "   \n",
        "\n",
        "def train_data_with_label():\n",
        "    train_images = []\n",
        "    for i in tqdm(os.listdir(data)):\n",
        "        path = os.path.join(data, i)\n",
        "        img = cv2.imread(path)\n",
        "        try:\n",
        "          img = cv2.resize(img, (100,100))\n",
        "        except:\n",
        "          continue\n",
        "        train_images.append([np.array(img, dtype=np.float64), label(i), i])\n",
        "    shuffle(train_images)\n",
        "    return train_images\n",
        "\n",
        "training_images = train_data_with_label()\n",
        "tr_img_data = np.array([i[0] for i in training_images])\n",
        "tr_lbl_data = np.array([i[1] for i in training_images])\n",
        "\n",
        "tr_img_data = tr_img_data[:900]\n",
        "tr_lbl_data = tr_lbl_data[:900]\n",
        "\n",
        "tst_data = tr_img_data[-100:]\n",
        "tst_label = tr_lbl_data[-100:] \n"
      ],
      "execution_count": 23,
      "outputs": [
        {
          "output_type": "stream",
          "text": [
            "  1%|          | 7/736 [00:00<00:11, 61.56it/s]"
          ],
          "name": "stderr"
        },
        {
          "output_type": "stream",
          "text": [
            "shoes/final/709.jpg\n",
            "shoes/final/721.jpg\n",
            "shoes/final/651.jpg\n",
            "shoes/final/117.jpg\n",
            "shoes/final/213.jpg\n",
            "shoes/final/312.jpg\n",
            "shoes/final/375.jpg\n",
            "shoes/final/357.jpg\n",
            "shoes/final/369.jpg\n",
            "shoes/final/631.jpg\n",
            "shoes/final/552.jpg\n",
            "shoes/final/246.jpg\n",
            "shoes/final/96.jpg\n"
          ],
          "name": "stdout"
        },
        {
          "output_type": "stream",
          "text": [
            "  3%|▎         | 23/736 [00:00<00:10, 66.31it/s]"
          ],
          "name": "stderr"
        },
        {
          "output_type": "stream",
          "text": [
            "shoes/final/598.jpg\n",
            "shoes/final/409.jpg\n",
            "shoes/final/371.jpg\n",
            "shoes/final/319.jpg\n",
            "shoes/final/108.jpg\n",
            "shoes/final/388.jpg\n",
            "shoes/final/163.jpg\n",
            "shoes/final/148.jpg\n",
            "shoes/final/151.jpg\n",
            "shoes/final/575.jpg\n",
            "shoes/final/255.jpg\n",
            "shoes/final/412.jpg\n",
            "shoes/final/566.jpg\n",
            "shoes/final/324.jpg\n"
          ],
          "name": "stdout"
        },
        {
          "output_type": "stream",
          "text": [
            "  5%|▌         | 39/736 [00:00<00:10, 66.00it/s]"
          ],
          "name": "stderr"
        },
        {
          "output_type": "stream",
          "text": [
            "shoes/final/198.jpg\n",
            "shoes/final/138.jpg\n",
            "shoes/final/576.jpg\n",
            "shoes/final/262.jpg\n",
            "shoes/final/267.jpg\n",
            "shoes/final/690.jpg\n",
            "shoes/final/131.jpg\n",
            "shoes/final/25.jpg\n",
            "shoes/final/234.jpg\n",
            "shoes/final/467.jpg\n",
            "shoes/final/567.jpg\n",
            "shoes/final/284.jpg\n",
            "shoes/final/104.jpg\n",
            "shoes/final/244.jpg\n",
            "shoes/final/279.jpg\n",
            "shoes/final/436.jpg\n"
          ],
          "name": "stdout"
        },
        {
          "output_type": "stream",
          "text": [
            "  7%|▋         | 55/736 [00:00<00:09, 68.21it/s]"
          ],
          "name": "stderr"
        },
        {
          "output_type": "stream",
          "text": [
            "shoes/final/459.jpg\n",
            "shoes/final/445.jpg\n",
            "shoes/final/622.jpg\n",
            "shoes/final/532.jpg\n",
            "shoes/final/91.jpg\n",
            "shoes/final/430.jpg\n",
            "shoes/final/662.jpg\n",
            "shoes/final/389.jpg\n",
            "shoes/final/265.jpg\n",
            "shoes/final/560.jpg\n",
            "shoes/final/642.jpg\n",
            "shoes/final/495.jpg\n",
            "shoes/final/95.jpg\n",
            "shoes/final/594.jpg\n",
            "shoes/final/277.jpg\n",
            "shoes/final/318.jpg\n",
            "shoes/final/586.jpg\n"
          ],
          "name": "stdout"
        },
        {
          "output_type": "stream",
          "text": [
            " 10%|▉         | 70/736 [00:01<00:09, 66.77it/s]"
          ],
          "name": "stderr"
        },
        {
          "output_type": "stream",
          "text": [
            "shoes/final/219.jpg\n",
            "shoes/final/623.jpg\n",
            "shoes/final/531.jpg\n",
            "shoes/final/681.jpg\n",
            "shoes/final/9.jpg\n",
            "shoes/final/423.jpg\n",
            "shoes/final/317.jpg\n",
            "shoes/final/428.jpg\n",
            "shoes/final/44.jpg\n",
            "shoes/final/320.jpg\n",
            "shoes/final/458.jpg\n",
            "shoes/final/48.jpg\n",
            "shoes/final/339.jpg\n",
            "shoes/final/34.jpg\n",
            "shoes/final/450.jpg\n"
          ],
          "name": "stdout"
        },
        {
          "output_type": "stream",
          "text": [
            " 11%|█▏        | 84/736 [00:01<00:11, 59.18it/s]"
          ],
          "name": "stderr"
        },
        {
          "output_type": "stream",
          "text": [
            "shoes/final/477.jpg\n",
            "shoes/final/363.jpg\n",
            "shoes/final/678.jpg\n",
            "shoes/final/288.jpg\n",
            "shoes/final/360.jpg\n",
            "shoes/final/11.jpg\n",
            "shoes/final/728.jpg\n",
            "shoes/final/174.jpg\n",
            "shoes/final/62.jpg\n",
            "shoes/final/276.jpg\n"
          ],
          "name": "stdout"
        },
        {
          "output_type": "stream",
          "text": [
            "\r 12%|█▏        | 91/736 [00:01<00:10, 59.36it/s]"
          ],
          "name": "stderr"
        },
        {
          "output_type": "stream",
          "text": [
            "shoes/final/296.jpg\n",
            "shoes/final/697.jpg\n",
            "shoes/final/688.jpg\n",
            "shoes/final/228.jpg\n",
            "shoes/final/604.jpg\n",
            "shoes/final/479.jpg\n",
            "shoes/final/251.jpg\n",
            "shoes/final/280.jpg\n",
            "shoes/final/201.jpg\n",
            "shoes/final/128.jpg\n",
            "shoes/final/145.jpg\n",
            "shoes/final/333.jpg\n"
          ],
          "name": "stdout"
        },
        {
          "output_type": "stream",
          "text": [
            " 14%|█▍        | 105/736 [00:01<00:10, 61.24it/s]"
          ],
          "name": "stderr"
        },
        {
          "output_type": "stream",
          "text": [
            "shoes/final/585.jpg\n",
            "shoes/final/249.jpg\n",
            "shoes/final/292.jpg\n",
            "shoes/final/525.jpg\n",
            "shoes/final/264.jpg\n",
            "shoes/final/394.jpg\n",
            "shoes/final/729.jpg\n",
            "shoes/final/618.jpg\n",
            "shoes/final/51.jpg\n",
            "shoes/final/299.jpg\n",
            "shoes/final/38.jpg\n",
            "shoes/final/43.jpg\n",
            "shoes/final/667.jpg\n",
            "shoes/final/230.jpg\n",
            "shoes/final/466.jpg\n"
          ],
          "name": "stdout"
        },
        {
          "output_type": "stream",
          "text": [
            " 16%|█▋        | 121/736 [00:01<00:09, 63.74it/s]"
          ],
          "name": "stderr"
        },
        {
          "output_type": "stream",
          "text": [
            "shoes/final/579.jpg\n",
            "shoes/final/39.jpg\n",
            "shoes/final/415.jpg\n",
            "shoes/final/535.jpg\n",
            "shoes/final/460.jpg\n",
            "shoes/final/172.jpg\n",
            "shoes/final/314.jpg\n",
            "shoes/final/494.jpg\n",
            "shoes/final/346.jpg\n",
            "shoes/final/559.jpg\n",
            "shoes/final/227.jpg\n",
            "shoes/final/503.jpg\n",
            "shoes/final/70.jpg\n",
            "shoes/final/469.jpg\n"
          ],
          "name": "stdout"
        },
        {
          "output_type": "stream",
          "text": [
            " 18%|█▊        | 136/736 [00:02<00:09, 63.27it/s]"
          ],
          "name": "stderr"
        },
        {
          "output_type": "stream",
          "text": [
            "shoes/final/156.jpg\n",
            "shoes/final/127.jpg\n",
            "shoes/final/186.jpg\n",
            "shoes/final/481.jpg\n",
            "shoes/final/473.jpg\n",
            "shoes/final/183.jpg\n",
            "shoes/final/197.jpg\n",
            "shoes/final/247.jpg\n",
            "shoes/final/609.jpg\n",
            "shoes/final/569.jpg\n",
            "shoes/final/72.jpg\n",
            "shoes/final/655.jpg\n",
            "shoes/final/385.jpg\n"
          ],
          "name": "stdout"
        },
        {
          "output_type": "stream",
          "text": [
            "\r 19%|█▉        | 143/736 [00:02<00:09, 63.32it/s]"
          ],
          "name": "stderr"
        },
        {
          "output_type": "stream",
          "text": [
            "shoes/final/640.jpg\n",
            "shoes/final/184.jpg\n",
            "shoes/final/429.jpg\n",
            "shoes/final/291.jpg\n",
            "shoes/final/675.jpg\n",
            "shoes/final/418.jpg\n",
            "shoes/final/523.jpg\n",
            "shoes/final/6.jpg\n",
            "shoes/final/27.jpg\n",
            "shoes/final/46.jpg\n",
            "shoes/final/113.jpg\n"
          ],
          "name": "stdout"
        },
        {
          "output_type": "stream",
          "text": [
            " 21%|██▏       | 158/736 [00:02<00:09, 57.87it/s]"
          ],
          "name": "stderr"
        },
        {
          "output_type": "stream",
          "text": [
            "shoes/final/370.jpg\n",
            "shoes/final/448.jpg\n",
            "shoes/final/548.jpg\n",
            "shoes/final/238.jpg\n",
            "shoes/final/440.jpg\n",
            "shoes/final/281.jpg\n",
            "shoes/final/555.jpg\n",
            "shoes/final/404.jpg\n",
            "shoes/final/400.jpg\n",
            "shoes/final/352.jpg\n",
            "shoes/final/305.jpg\n",
            "shoes/final/391.jpg\n",
            "shoes/final/596.jpg\n"
          ],
          "name": "stdout"
        },
        {
          "output_type": "stream",
          "text": [
            " 23%|██▎       | 171/736 [00:02<00:10, 54.23it/s]"
          ],
          "name": "stderr"
        },
        {
          "output_type": "stream",
          "text": [
            "shoes/final/719.jpg\n",
            "shoes/final/712.jpg\n",
            "shoes/final/661.jpg\n",
            "shoes/final/518.jpg\n",
            "shoes/final/328.jpg\n",
            "shoes/final/343.jpg\n",
            "shoes/final/152.jpg\n",
            "shoes/final/24.jpg\n",
            "shoes/final/565.jpg\n",
            "shoes/final/110.jpg\n",
            "shoes/final/133.jpg\n"
          ],
          "name": "stdout"
        },
        {
          "output_type": "stream",
          "text": [
            " 25%|██▌       | 187/736 [00:02<00:09, 60.56it/s]"
          ],
          "name": "stderr"
        },
        {
          "output_type": "stream",
          "text": [
            "shoes/final/497.jpg\n",
            "shoes/final/647.jpg\n",
            "shoes/final/20.jpg\n",
            "shoes/final/426.jpg\n",
            "shoes/final/613.jpg\n",
            "shoes/final/376.jpg\n",
            "shoes/final/307.jpg\n",
            "shoes/final/485.jpg\n",
            "shoes/final/602.jpg\n",
            "shoes/final/676.jpg\n",
            "shoes/final/54.jpg\n",
            "shoes/final/725.jpg\n",
            "shoes/final/149.jpg\n",
            "shoes/final/474.jpg\n"
          ],
          "name": "stdout"
        },
        {
          "output_type": "stream",
          "text": [
            "\r 26%|██▋       | 194/736 [00:03<00:10, 53.94it/s]"
          ],
          "name": "stderr"
        },
        {
          "output_type": "stream",
          "text": [
            "shoes/final/146.jpg\n",
            "shoes/final/80.jpg\n",
            "shoes/final/31.jpg\n",
            "shoes/final/437.jpg\n",
            "shoes/final/189.jpg\n",
            "shoes/final/106.jpg\n",
            "shoes/final/268.jpg\n",
            "shoes/final/490.jpg\n",
            "shoes/final/165.jpg\n",
            "shoes/final/724.jpg\n",
            "shoes/final/498.jpg\n",
            "shoes/final/68.jpg\n",
            "shoes/final/484.jpg\n"
          ],
          "name": "stdout"
        },
        {
          "output_type": "stream",
          "text": [
            " 29%|██▊       | 211/736 [00:03<00:08, 60.80it/s]"
          ],
          "name": "stderr"
        },
        {
          "output_type": "stream",
          "text": [
            "shoes/final/471.jpg\n",
            "shoes/final/283.jpg\n",
            "shoes/final/122.jpg\n",
            "shoes/final/633.jpg\n",
            "shoes/final/15.jpg\n",
            "shoes/final/656.jpg\n",
            "shoes/final/682.jpg\n",
            "shoes/final/395.jpg\n",
            "shoes/final/364.jpg\n",
            "shoes/final/378.jpg\n",
            "shoes/final/242.jpg\n",
            "shoes/final/455.jpg\n",
            "shoes/final/16.jpg\n",
            "shoes/final/202.jpg\n"
          ],
          "name": "stdout"
        },
        {
          "output_type": "stream",
          "text": [
            " 31%|███       | 228/736 [00:03<00:07, 70.32it/s]"
          ],
          "name": "stderr"
        },
        {
          "output_type": "stream",
          "text": [
            "shoes/final/285.jpg\n",
            "shoes/final/464.jpg\n",
            "shoes/final/21.jpg\n",
            "shoes/final/610.jpg\n",
            "shoes/final/545.jpg\n",
            "shoes/final/382.jpg\n",
            "shoes/final/147.jpg\n",
            "shoes/final/568.jpg\n",
            "shoes/final/330.jpg\n",
            "shoes/final/451.jpg\n",
            "shoes/final/563.jpg\n",
            "shoes/final/511.jpg\n",
            "shoes/final/182.jpg\n",
            "shoes/final/99.jpg\n",
            "shoes/final/480.jpg\n",
            "shoes/final/605.jpg\n"
          ],
          "name": "stdout"
        },
        {
          "output_type": "stream",
          "text": [
            " 33%|███▎      | 245/736 [00:03<00:06, 71.11it/s]"
          ],
          "name": "stderr"
        },
        {
          "output_type": "stream",
          "text": [
            "shoes/final/35.jpg\n",
            "shoes/final/505.jpg\n",
            "shoes/final/626.jpg\n",
            "shoes/final/102.jpg\n",
            "shoes/final/56.jpg\n",
            "shoes/final/215.jpg\n",
            "shoes/final/541.jpg\n",
            "shoes/final/730.jpg\n",
            "shoes/final/313.jpg\n",
            "shoes/final/456.jpg\n",
            "shoes/final/161.jpg\n",
            "shoes/final/222.jpg\n",
            "shoes/final/433.jpg\n",
            "shoes/final/654.jpg\n",
            "shoes/final/377.jpg\n",
            "shoes/final/315.jpg\n"
          ],
          "name": "stdout"
        },
        {
          "output_type": "stream",
          "text": [
            "\r 34%|███▍      | 253/736 [00:03<00:07, 67.86it/s]"
          ],
          "name": "stderr"
        },
        {
          "output_type": "stream",
          "text": [
            "shoes/final/470.jpg\n",
            "shoes/final/290.jpg\n",
            "shoes/final/323.jpg\n",
            "shoes/final/663.jpg\n",
            "shoes/final/76.jpg\n",
            "shoes/final/192.jpg\n",
            "shoes/final/443.jpg\n",
            "shoes/final/257.jpg\n",
            "shoes/final/603.jpg\n",
            "shoes/final/424.jpg\n",
            "shoes/final/12.jpg\n",
            "shoes/final/135.jpg\n"
          ],
          "name": "stdout"
        },
        {
          "output_type": "stream",
          "text": [
            " 37%|███▋      | 269/736 [00:04<00:07, 63.79it/s]"
          ],
          "name": "stderr"
        },
        {
          "output_type": "stream",
          "text": [
            "shoes/final/625.jpg\n",
            "shoes/final/32.jpg\n",
            "shoes/final/489.jpg\n",
            "shoes/final/700.jpg\n",
            "shoes/final/261.jpg\n",
            "shoes/final/338.jpg\n",
            "shoes/final/74.jpg\n",
            "shoes/final/708.jpg\n",
            "shoes/final/289.jpg\n",
            "shoes/final/100.jpg\n",
            "shoes/final/158.jpg\n",
            "shoes/final/447.jpg\n"
          ],
          "name": "stdout"
        },
        {
          "output_type": "stream",
          "text": [
            " 38%|███▊      | 283/736 [00:04<00:07, 63.25it/s]"
          ],
          "name": "stderr"
        },
        {
          "output_type": "stream",
          "text": [
            "shoes/final/316.jpg\n",
            "shoes/final/711.jpg\n",
            "shoes/final/396.jpg\n",
            "shoes/final/309.jpg\n",
            "shoes/final/351.jpg\n",
            "shoes/final/691.jpg\n",
            "shoes/final/733.jpg\n",
            "shoes/final/175.jpg\n",
            "shoes/final/402.jpg\n",
            "shoes/final/374.jpg\n",
            "shoes/final/685.jpg\n",
            "shoes/final/680.jpg\n",
            "shoes/final/499.jpg\n",
            "shoes/final/536.jpg\n"
          ],
          "name": "stdout"
        },
        {
          "output_type": "stream",
          "text": [
            " 40%|████      | 298/736 [00:04<00:07, 62.33it/s]"
          ],
          "name": "stderr"
        },
        {
          "output_type": "stream",
          "text": [
            "shoes/final/510.jpg\n",
            "shoes/final/237.jpg\n",
            "shoes/final/674.jpg\n",
            "shoes/final/98.jpg\n",
            "shoes/final/502.jpg\n",
            "shoes/final/417.jpg\n",
            "shoes/final/530.jpg\n",
            "shoes/final/483.jpg\n",
            "shoes/final/64.jpg\n",
            "shoes/final/522.jpg\n",
            "shoes/final/231.jpg\n",
            "shoes/final/506.jpg\n",
            "shoes/final/358.jpg\n"
          ],
          "name": "stdout"
        },
        {
          "output_type": "stream",
          "text": [
            "\r 41%|████▏     | 305/736 [00:04<00:06, 63.94it/s]"
          ],
          "name": "stderr"
        },
        {
          "output_type": "stream",
          "text": [
            "shoes/final/686.jpg\n",
            "shoes/final/546.jpg\n",
            "shoes/final/695.jpg\n",
            "shoes/final/229.jpg\n",
            "shoes/final/551.jpg\n",
            "shoes/final/715.jpg\n",
            "shoes/final/381.jpg\n",
            "shoes/final/301.jpg\n",
            "shoes/final/717.jpg\n",
            "shoes/final/169.jpg\n",
            "shoes/final/606.jpg\n",
            "shoes/final/413.jpg\n"
          ],
          "name": "stdout"
        },
        {
          "output_type": "stream",
          "text": [
            " 44%|████▎     | 321/736 [00:05<00:06, 63.77it/s]"
          ],
          "name": "stderr"
        },
        {
          "output_type": "stream",
          "text": [
            "shoes/final/123.jpg\n",
            "shoes/final/501.jpg\n",
            "shoes/final/368.jpg\n",
            "shoes/final/83.jpg\n",
            "shoes/final/710.jpg\n",
            "shoes/final/178.jpg\n",
            "shoes/final/79.jpg\n",
            "shoes/final/588.jpg\n",
            "shoes/final/206.jpg\n",
            "shoes/final/286.jpg\n",
            "shoes/final/526.jpg\n",
            "shoes/final/540.jpg\n",
            "shoes/final/241.jpg\n",
            "shoes/final/295.jpg\n",
            "shoes/final/462.jpg\n",
            "shoes/final/73.jpg\n"
          ],
          "name": "stdout"
        },
        {
          "output_type": "stream",
          "text": [
            " 46%|████▌     | 338/736 [00:05<00:05, 68.56it/s]"
          ],
          "name": "stderr"
        },
        {
          "output_type": "stream",
          "text": [
            "shoes/final/250.jpg\n",
            "shoes/final/19.jpg\n",
            "shoes/final/143.jpg\n",
            "shoes/final/547.jpg\n",
            "shoes/final/704.jpg\n",
            "shoes/final/1.jpg\n",
            "shoes/final/218.jpg\n",
            "shoes/final/300.jpg\n",
            "shoes/final/410.jpg\n",
            "shoes/final/155.jpg\n",
            "shoes/final/105.jpg\n",
            "shoes/final/607.jpg\n",
            "shoes/final/211.jpg\n",
            "shoes/final/263.jpg\n",
            "shoes/final/649.jpg\n",
            "shoes/final/214.jpg\n"
          ],
          "name": "stdout"
        },
        {
          "output_type": "stream",
          "text": [
            " 48%|████▊     | 355/736 [00:05<00:05, 68.81it/s]"
          ],
          "name": "stderr"
        },
        {
          "output_type": "stream",
          "text": [
            "shoes/final/361.jpg\n",
            "shoes/final/664.jpg\n",
            "shoes/final/67.jpg\n",
            "shoes/final/274.jpg\n",
            "shoes/final/52.jpg\n",
            "shoes/final/141.jpg\n",
            "shoes/final/239.jpg\n",
            "shoes/final/121.jpg\n",
            "shoes/final/82.jpg\n",
            "shoes/final/679.jpg\n",
            "shoes/final/36.jpg\n",
            "shoes/final/627.jpg\n",
            "shoes/final/714.jpg\n"
          ],
          "name": "stdout"
        },
        {
          "output_type": "stream",
          "text": [
            "\r 49%|████▉     | 363/736 [00:05<00:06, 61.06it/s]"
          ],
          "name": "stderr"
        },
        {
          "output_type": "stream",
          "text": [
            "shoes/final/702.jpg\n",
            "shoes/final/139.jpg\n",
            "shoes/final/298.jpg\n",
            "shoes/final/694.jpg\n",
            "shoes/final/550.jpg\n",
            "shoes/final/453.jpg\n",
            "shoes/final/166.jpg\n",
            "shoes/final/554.jpg\n",
            "shoes/final/557.jpg\n",
            "shoes/final/476.jpg\n",
            "shoes/final/639.jpg\n",
            "shoes/final/114.jpg\n",
            "shoes/final/422.jpg\n"
          ],
          "name": "stdout"
        },
        {
          "output_type": "stream",
          "text": [
            " 51%|█████▏    | 378/736 [00:05<00:05, 63.43it/s]"
          ],
          "name": "stderr"
        },
        {
          "output_type": "stream",
          "text": [
            "shoes/final/615.jpg\n",
            "shoes/final/446.jpg\n",
            "shoes/final/439.jpg\n",
            "shoes/final/294.jpg\n",
            "shoes/final/195.jpg\n",
            "shoes/final/571.jpg\n",
            "shoes/final/8.jpg\n",
            "shoes/final/650.jpg\n",
            "shoes/final/534.jpg\n",
            "shoes/final/537.jpg\n",
            "shoes/final/140.jpg\n",
            "shoes/final/582.jpg\n"
          ],
          "name": "stdout"
        },
        {
          "output_type": "stream",
          "text": [
            " 54%|█████▎    | 394/736 [00:06<00:05, 63.98it/s]"
          ],
          "name": "stderr"
        },
        {
          "output_type": "stream",
          "text": [
            "shoes/final/26.jpg\n",
            "shoes/final/478.jpg\n",
            "shoes/final/620.jpg\n",
            "shoes/final/684.jpg\n",
            "shoes/final/287.jpg\n",
            "shoes/final/137.jpg\n",
            "shoes/final/736.jpg\n",
            "shoes/final/347.jpg\n",
            "shoes/final/57.jpg\n",
            "shoes/final/624.jpg\n",
            "shoes/final/399.jpg\n",
            "shoes/final/524.jpg\n",
            "shoes/final/88.jpg\n",
            "shoes/final/272.jpg\n",
            "shoes/final/136.jpg\n",
            "shoes/final/217.jpg\n"
          ],
          "name": "stdout"
        },
        {
          "output_type": "stream",
          "text": [
            " 55%|█████▌    | 408/736 [00:06<00:05, 64.05it/s]"
          ],
          "name": "stderr"
        },
        {
          "output_type": "stream",
          "text": [
            "shoes/final/29.jpg\n",
            "shoes/final/517.jpg\n",
            "shoes/final/718.jpg\n",
            "shoes/final/600.jpg\n",
            "shoes/final/125.jpg\n",
            "shoes/final/132.jpg\n",
            "shoes/final/30.jpg\n",
            "shoes/final/22.jpg\n",
            "shoes/final/129.jpg\n",
            "shoes/final/683.jpg\n",
            "shoes/final/508.jpg\n",
            "shoes/final/572.jpg\n",
            "shoes/final/55.jpg\n"
          ],
          "name": "stdout"
        },
        {
          "output_type": "stream",
          "text": [
            " 57%|█████▋    | 423/736 [00:06<00:04, 63.03it/s]"
          ],
          "name": "stderr"
        },
        {
          "output_type": "stream",
          "text": [
            "shoes/final/177.jpg\n",
            "shoes/final/635.jpg\n",
            "shoes/final/487.jpg\n",
            "shoes/final/40.jpg\n",
            "shoes/final/69.jpg\n",
            "shoes/final/367.jpg\n",
            "shoes/final/403.jpg\n",
            "shoes/final/529.jpg\n",
            "shoes/final/103.jpg\n",
            "shoes/final/591.jpg\n",
            "shoes/final/657.jpg\n",
            "shoes/final/236.jpg\n",
            "shoes/final/573.jpg\n",
            "shoes/final/362.jpg\n"
          ],
          "name": "stdout"
        },
        {
          "output_type": "stream",
          "text": [
            "\r 58%|█████▊    | 430/736 [00:06<00:04, 63.84it/s]"
          ],
          "name": "stderr"
        },
        {
          "output_type": "stream",
          "text": [
            "shoes/final/463.jpg\n",
            "shoes/final/457.jpg\n",
            "shoes/final/637.jpg\n",
            "shoes/final/325.jpg\n",
            "shoes/final/496.jpg\n",
            "shoes/final/621.jpg\n",
            "shoes/final/240.jpg\n",
            "shoes/final/85.jpg\n",
            "shoes/final/59.jpg\n",
            "shoes/final/542.jpg\n",
            "shoes/final/93.jpg\n",
            "shoes/final/33.jpg\n",
            "shoes/final/233.jpg\n"
          ],
          "name": "stdout"
        },
        {
          "output_type": "stream",
          "text": [
            " 60%|██████    | 444/736 [00:06<00:04, 61.22it/s]"
          ],
          "name": "stderr"
        },
        {
          "output_type": "stream",
          "text": [
            "shoes/final/297.jpg\n",
            "shoes/final/434.jpg\n",
            "shoes/final/692.jpg\n",
            "shoes/final/672.jpg\n",
            "shoes/final/698.jpg\n",
            "shoes/final/636.jpg\n",
            "shoes/final/584.jpg\n",
            "shoes/final/223.jpg\n",
            "shoes/final/87.jpg\n",
            "shoes/final/722.jpg\n",
            "shoes/final/513.jpg\n",
            "shoes/final/196.jpg\n"
          ],
          "name": "stdout"
        },
        {
          "output_type": "stream",
          "text": [
            " 62%|██████▏   | 458/736 [00:07<00:04, 61.38it/s]"
          ],
          "name": "stderr"
        },
        {
          "output_type": "stream",
          "text": [
            "shoes/final/614.jpg\n",
            "shoes/final/677.jpg\n",
            "shoes/final/589.jpg\n",
            "shoes/final/335.jpg\n",
            "shoes/final/482.jpg\n",
            "shoes/final/630.jpg\n",
            "shoes/final/306.jpg\n",
            "shoes/final/191.jpg\n",
            "shoes/final/509.jpg\n",
            "shoes/final/7.jpg\n",
            "shoes/final/193.jpg\n",
            "shoes/final/308.jpg\n",
            "shoes/final/638.jpg\n",
            "shoes/final/336.jpg\n"
          ],
          "name": "stdout"
        },
        {
          "output_type": "stream",
          "text": [
            " 64%|██████▍   | 472/736 [00:07<00:04, 64.58it/s]"
          ],
          "name": "stderr"
        },
        {
          "output_type": "stream",
          "text": [
            "shoes/final/75.jpg\n",
            "shoes/final/669.jpg\n",
            "shoes/final/379.jpg\n",
            "shoes/final/150.jpg\n",
            "shoes/final/208.jpg\n",
            "shoes/final/372.jpg\n",
            "shoes/final/643.jpg\n",
            "shoes/final/331.jpg\n",
            "shoes/final/419.jpg\n",
            "shoes/final/329.jpg\n",
            "shoes/final/442.jpg\n",
            "shoes/final/224.jpg\n",
            "shoes/final/515.jpg\n",
            "shoes/final/81.jpg\n"
          ],
          "name": "stdout"
        },
        {
          "output_type": "stream",
          "text": [
            " 66%|██████▌   | 487/736 [00:07<00:03, 63.40it/s]"
          ],
          "name": "stderr"
        },
        {
          "output_type": "stream",
          "text": [
            "shoes/final/61.jpg\n",
            "shoes/final/256.jpg\n",
            "shoes/final/275.jpg\n",
            "shoes/final/10.jpg\n",
            "shoes/final/421.jpg\n",
            "shoes/final/49.jpg\n",
            "shoes/final/168.jpg\n",
            "shoes/final/199.jpg\n",
            "shoes/final/538.jpg\n",
            "shoes/final/66.jpg\n",
            "shoes/final/355.jpg\n",
            "shoes/final/435.jpg\n",
            "shoes/final/200.jpg\n"
          ],
          "name": "stdout"
        },
        {
          "output_type": "stream",
          "text": [
            "\r 67%|██████▋   | 494/736 [00:07<00:04, 60.03it/s]"
          ],
          "name": "stderr"
        },
        {
          "output_type": "stream",
          "text": [
            "shoes/final/109.jpg\n",
            "shoes/final/353.jpg\n",
            "shoes/final/97.jpg\n",
            "shoes/final/5.jpg\n",
            "shoes/final/209.jpg\n",
            "shoes/final/225.jpg\n",
            "shoes/final/154.jpg\n",
            "shoes/final/668.jpg\n",
            "shoes/final/519.jpg\n",
            "shoes/final/416.jpg\n",
            "shoes/final/577.jpg\n"
          ],
          "name": "stdout"
        },
        {
          "output_type": "stream",
          "text": [
            " 69%|██████▉   | 507/736 [00:08<00:04, 55.95it/s]"
          ],
          "name": "stderr"
        },
        {
          "output_type": "stream",
          "text": [
            "shoes/final/205.jpg\n",
            "shoes/final/583.jpg\n",
            "shoes/final/77.jpg\n",
            "shoes/final/221.jpg\n",
            "shoes/final/634.jpg\n",
            "shoes/final/63.jpg\n",
            "shoes/final/37.jpg\n",
            "shoes/final/65.jpg\n",
            "shoes/final/271.jpg\n",
            "shoes/final/71.jpg\n",
            "shoes/final/720.jpg\n",
            "shoes/final/282.jpg\n"
          ],
          "name": "stdout"
        },
        {
          "output_type": "stream",
          "text": [
            " 71%|███████   | 520/736 [00:08<00:03, 57.08it/s]"
          ],
          "name": "stderr"
        },
        {
          "output_type": "stream",
          "text": [
            "shoes/final/94.jpg\n",
            "shoes/final/595.jpg\n",
            "shoes/final/260.jpg\n",
            "shoes/final/86.jpg\n",
            "shoes/final/731.jpg\n",
            "shoes/final/384.jpg\n",
            "shoes/final/527.jpg\n",
            "shoes/final/461.jpg\n",
            "shoes/final/173.jpg\n",
            "shoes/final/611.jpg\n",
            "shoes/final/58.jpg\n",
            "shoes/final/266.jpg\n",
            "shoes/final/334.jpg\n",
            "shoes/final/350.jpg\n"
          ],
          "name": "stdout"
        },
        {
          "output_type": "stream",
          "text": [
            " 72%|███████▏  | 533/736 [00:08<00:03, 53.89it/s]"
          ],
          "name": "stderr"
        },
        {
          "output_type": "stream",
          "text": [
            "shoes/final/726.jpg\n",
            "shoes/final/365.jpg\n",
            "shoes/final/408.jpg\n",
            "shoes/final/180.jpg\n",
            "shoes/final/648.jpg\n",
            "shoes/final/116.jpg\n",
            "shoes/final/687.jpg\n",
            "shoes/final/366.jpg\n",
            "shoes/final/354.jpg\n",
            "shoes/final/327.jpg\n",
            "shoes/final/164.jpg\n",
            "shoes/final/599.jpg\n",
            "shoes/final/216.jpg\n"
          ],
          "name": "stdout"
        },
        {
          "output_type": "stream",
          "text": [
            " 75%|███████▌  | 552/736 [00:08<00:02, 62.96it/s]"
          ],
          "name": "stderr"
        },
        {
          "output_type": "stream",
          "text": [
            "shoes/final/414.jpg\n",
            "shoes/final/78.jpg\n",
            "shoes/final/507.jpg\n",
            "shoes/final/521.jpg\n",
            "shoes/final/3.jpg\n",
            "shoes/final/612.jpg\n",
            "shoes/final/397.jpg\n",
            "shoes/final/504.jpg\n",
            "shoes/final/232.jpg\n",
            "shoes/final/278.jpg\n",
            "shoes/final/658.jpg\n",
            "shoes/final/17.jpg\n",
            "shoes/final/226.jpg\n",
            "shoes/final/578.jpg\n"
          ],
          "name": "stdout"
        },
        {
          "output_type": "stream",
          "text": [
            " 77%|███████▋  | 568/736 [00:08<00:02, 66.65it/s]"
          ],
          "name": "stderr"
        },
        {
          "output_type": "stream",
          "text": [
            "shoes/final/47.jpg\n",
            "shoes/final/387.jpg\n",
            "shoes/final/432.jpg\n",
            "shoes/final/398.jpg\n",
            "shoes/final/645.jpg\n",
            "shoes/final/716.jpg\n",
            "shoes/final/665.jpg\n",
            "shoes/final/13.jpg\n",
            "shoes/final/431.jpg\n",
            "shoes/final/162.jpg\n",
            "shoes/final/342.jpg\n",
            "shoes/final/115.jpg\n",
            "shoes/final/84.jpg\n",
            "shoes/final/130.jpg\n",
            "shoes/final/514.jpg\n",
            "shoes/final/705.jpg\n"
          ],
          "name": "stdout"
        },
        {
          "output_type": "stream",
          "text": [
            "\r 78%|███████▊  | 575/736 [00:09<00:02, 65.19it/s]"
          ],
          "name": "stderr"
        },
        {
          "output_type": "stream",
          "text": [
            "shoes/final/204.jpg\n",
            "shoes/final/383.jpg\n",
            "shoes/final/220.jpg\n",
            "shoes/final/500.jpg\n",
            "shoes/final/181.jpg\n",
            "shoes/final/194.jpg\n",
            "shoes/final/212.jpg\n",
            "shoes/final/652.jpg\n",
            "shoes/final/570.jpg\n",
            "shoes/final/641.jpg\n",
            "shoes/final/392.jpg\n",
            "shoes/final/167.jpg\n"
          ],
          "name": "stdout"
        },
        {
          "output_type": "stream",
          "text": [
            " 80%|████████  | 591/736 [00:09<00:02, 68.74it/s]"
          ],
          "name": "stderr"
        },
        {
          "output_type": "stream",
          "text": [
            "shoes/final/28.jpg\n",
            "shoes/final/549.jpg\n",
            "shoes/final/126.jpg\n",
            "shoes/final/580.jpg\n",
            "shoes/final/619.jpg\n",
            "shoes/final/270.jpg\n",
            "shoes/final/171.jpg\n",
            "shoes/final/533.jpg\n",
            "shoes/final/153.jpg\n",
            "shoes/final/706.jpg\n",
            "shoes/final/617.jpg\n",
            "shoes/final/107.jpg\n",
            "shoes/final/188.jpg\n",
            "shoes/final/187.jpg\n"
          ],
          "name": "stdout"
        },
        {
          "output_type": "stream",
          "text": [
            " 82%|████████▏ | 606/736 [00:09<00:01, 67.43it/s]"
          ],
          "name": "stderr"
        },
        {
          "output_type": "stream",
          "text": [
            "shoes/final/444.jpg\n",
            "shoes/final/561.jpg\n",
            "shoes/final/659.jpg\n",
            "shoes/final/492.jpg\n",
            "shoes/final/601.jpg\n",
            "shoes/final/544.jpg\n",
            "shoes/final/689.jpg\n",
            "shoes/final/344.jpg\n",
            "shoes/final/673.jpg\n",
            "shoes/final/53.jpg\n",
            "shoes/final/340.jpg\n",
            "shoes/final/356.jpg\n",
            "shoes/final/349.jpg\n",
            "shoes/final/590.jpg\n",
            "shoes/final/735.jpg\n"
          ],
          "name": "stdout"
        },
        {
          "output_type": "stream",
          "text": [
            " 84%|████████▍ | 621/736 [00:09<00:01, 68.94it/s]"
          ],
          "name": "stderr"
        },
        {
          "output_type": "stream",
          "text": [
            "shoes/final/4.jpg\n",
            "shoes/final/699.jpg\n",
            "shoes/final/45.jpg\n",
            "shoes/final/441.jpg\n",
            "shoes/final/543.jpg\n",
            "shoes/final/653.jpg\n",
            "shoes/final/516.jpg\n",
            "shoes/final/411.jpg\n",
            "shoes/final/666.jpg\n",
            "shoes/final/310.jpg\n",
            "shoes/final/337.jpg\n",
            "shoes/final/321.jpg\n",
            "shoes/final/628.jpg\n",
            "shoes/final/111.jpg\n",
            "shoes/final/101.jpg\n"
          ],
          "name": "stdout"
        },
        {
          "output_type": "stream",
          "text": [
            " 86%|████████▋ | 636/736 [00:10<00:01, 64.06it/s]"
          ],
          "name": "stderr"
        },
        {
          "output_type": "stream",
          "text": [
            "shoes/final/203.jpg\n",
            "shoes/final/696.jpg\n",
            "shoes/final/587.jpg\n",
            "shoes/final/701.jpg\n",
            "shoes/final/134.jpg\n",
            "shoes/final/41.jpg\n",
            "shoes/final/671.jpg\n",
            "shoes/final/157.jpg\n",
            "shoes/final/118.jpg\n",
            "shoes/final/89.jpg\n",
            "shoes/final/574.jpg\n",
            "shoes/final/258.jpg\n"
          ],
          "name": "stdout"
        },
        {
          "output_type": "stream",
          "text": [
            " 88%|████████▊ | 650/736 [00:10<00:01, 61.42it/s]"
          ],
          "name": "stderr"
        },
        {
          "output_type": "stream",
          "text": [
            "shoes/final/119.jpg\n",
            "shoes/final/245.jpg\n",
            "shoes/final/14.jpg\n",
            "shoes/final/42.jpg\n",
            "shoes/final/616.jpg\n",
            "shoes/final/185.jpg\n",
            "shoes/final/303.jpg\n",
            "shoes/final/273.jpg\n",
            "shoes/final/528.jpg\n",
            "shoes/final/259.jpg\n",
            "shoes/final/269.jpg\n",
            "shoes/final/420.jpg\n",
            "shoes/final/112.jpg\n"
          ],
          "name": "stdout"
        },
        {
          "output_type": "stream",
          "text": [
            " 90%|█████████ | 664/736 [00:10<00:01, 61.65it/s]"
          ],
          "name": "stderr"
        },
        {
          "output_type": "stream",
          "text": [
            "shoes/final/179.jpg\n",
            "shoes/final/488.jpg\n",
            "shoes/final/243.jpg\n",
            "shoes/final/348.jpg\n",
            "shoes/final/359.jpg\n",
            "shoes/final/190.jpg\n",
            "shoes/final/465.jpg\n",
            "shoes/final/176.jpg\n",
            "shoes/final/2.jpg\n",
            "shoes/final/332.jpg\n",
            "shoes/final/254.jpg\n",
            "shoes/final/160.jpg\n",
            "shoes/final/592.jpg\n",
            "shoes/final/556.jpg\n"
          ],
          "name": "stdout"
        },
        {
          "output_type": "stream",
          "text": [
            "\r 91%|█████████ | 671/736 [00:10<00:01, 60.07it/s]"
          ],
          "name": "stderr"
        },
        {
          "output_type": "stream",
          "text": [
            "shoes/final/486.jpg\n",
            "shoes/final/18.jpg\n",
            "shoes/final/407.jpg\n",
            "shoes/final/144.jpg\n",
            "shoes/final/660.jpg\n",
            "shoes/final/393.jpg\n",
            "shoes/final/539.jpg\n",
            "shoes/final/322.jpg\n",
            "shoes/final/210.jpg\n",
            "shoes/final/142.jpg\n",
            "shoes/final/608.jpg\n",
            "shoes/final/562.jpg\n"
          ],
          "name": "stdout"
        },
        {
          "output_type": "stream",
          "text": [
            " 93%|█████████▎| 687/736 [00:10<00:00, 65.50it/s]"
          ],
          "name": "stderr"
        },
        {
          "output_type": "stream",
          "text": [
            "shoes/final/311.jpg\n",
            "shoes/final/693.jpg\n",
            "shoes/final/520.jpg\n",
            "shoes/final/629.jpg\n",
            "shoes/final/0.jpg\n",
            "shoes/final/727.jpg\n",
            "shoes/final/732.jpg\n",
            "shoes/final/380.jpg\n",
            "shoes/final/632.jpg\n",
            "shoes/final/468.jpg\n",
            "shoes/final/644.jpg\n",
            "shoes/final/734.jpg\n",
            "shoes/final/703.jpg\n",
            "shoes/final/452.jpg\n",
            "shoes/final/593.jpg\n",
            "shoes/final/90.jpg\n",
            "shoes/final/50.jpg\n"
          ],
          "name": "stdout"
        },
        {
          "output_type": "stream",
          "text": [
            " 96%|█████████▌| 703/736 [00:11<00:00, 50.45it/s]"
          ],
          "name": "stderr"
        },
        {
          "output_type": "stream",
          "text": [
            "shoes/final/405.jpg\n",
            "shoes/final/553.jpg\n",
            "shoes/final/597.jpg\n",
            "shoes/final/60.jpg\n",
            "shoes/final/235.jpg\n",
            "shoes/final/304.jpg\n",
            "shoes/final/723.jpg\n",
            "shoes/final/646.jpg\n",
            "shoes/final/491.jpg\n",
            "shoes/final/475.jpg\n",
            "shoes/final/248.jpg\n",
            "shoes/final/124.jpg\n",
            "shoes/final/373.jpg\n",
            "shoes/final/390.jpg\n",
            "shoes/final/512.jpg\n"
          ],
          "name": "stdout"
        },
        {
          "output_type": "stream",
          "text": [
            " 98%|█████████▊| 718/736 [00:11<00:00, 57.77it/s]"
          ],
          "name": "stderr"
        },
        {
          "output_type": "stream",
          "text": [
            "shoes/final/326.jpg\n",
            "shoes/final/449.jpg\n",
            "shoes/final/159.jpg\n",
            "shoes/final/581.jpg\n",
            "shoes/final/713.jpg\n",
            "shoes/final/252.jpg\n",
            "shoes/final/341.jpg\n",
            "shoes/final/92.jpg\n",
            "shoes/final/386.jpg\n",
            "shoes/final/293.jpg\n",
            "shoes/final/170.jpg\n",
            "shoes/final/558.jpg\n",
            "shoes/final/564.jpg\n",
            "shoes/final/207.jpg\n",
            "shoes/final/454.jpg\n"
          ],
          "name": "stdout"
        },
        {
          "output_type": "stream",
          "text": [
            "100%|██████████| 736/736 [00:11<00:00, 62.97it/s]"
          ],
          "name": "stderr"
        },
        {
          "output_type": "stream",
          "text": [
            "shoes/final/120.jpg\n",
            "shoes/final/302.jpg\n",
            "shoes/final/427.jpg\n",
            "shoes/final/493.jpg\n",
            "shoes/final/23.jpg\n",
            "shoes/final/438.jpg\n",
            "shoes/final/472.jpg\n",
            "shoes/final/345.jpg\n",
            "shoes/final/253.jpg\n",
            "shoes/final/401.jpg\n",
            "shoes/final/670.jpg\n",
            "shoes/final/406.jpg\n",
            "shoes/final/425.jpg\n"
          ],
          "name": "stdout"
        },
        {
          "output_type": "stream",
          "text": [
            "\n"
          ],
          "name": "stderr"
        }
      ]
    },
    {
      "cell_type": "code",
      "metadata": {
        "id": "N5Aufma4_yHk",
        "colab_type": "code",
        "outputId": "02eb1aac-c68b-4d13-8601-facecf41af55",
        "colab": {
          "base_uri": "https://localhost:8080/",
          "height": 68
        }
      },
      "source": [
        "tr_img_data.astype('float32')\n",
        "\n",
        "\n",
        "print('x_train shape:', tr_img_data.shape)\n",
        "print(tr_img_data.shape[0], 'train samples')\n",
        "print(tst_data.shape[0], 'test samples')"
      ],
      "execution_count": 24,
      "outputs": [
        {
          "output_type": "stream",
          "text": [
            "x_train shape: (719, 100, 100, 3)\n",
            "719 train samples\n",
            "100 test samples\n"
          ],
          "name": "stdout"
        }
      ]
    },
    {
      "cell_type": "code",
      "metadata": {
        "id": "ly-CXeN74BFT",
        "colab_type": "code",
        "colab": {}
      },
      "source": [
        "\n",
        "\n",
        "model = Sequential()\n",
        "\n",
        "model.add(Conv2D(filters=20,kernel_size=5, strides=1, padding='same', activation='relu', input_shape=(100, 100, 3)))\n",
        "model.add(Conv2D(filters=32, kernel_size=5, strides=1, padding='same', activation='relu'))\n",
        "model.add(MaxPool2D(pool_size=5, padding='same'))\n",
        "\n",
        "model.add(Conv2D(filters=50, kernel_size=5, strides=1, padding='same', activation='relu'))\n",
        "model.add(MaxPool2D(pool_size=5, padding='same'))\n",
        "\n",
        "model.add(Conv2D(filters=80, kernel_size=5, strides=1, padding='same', activation='relu'))\n",
        "model.add(MaxPool2D(pool_size=5, padding='same'))\n",
        "\n",
        "model.add(Dropout(0.25))\n",
        "model.add(Flatten())\n",
        "model.add(Dense(512,activation='relu'))\n",
        "model.add(Dropout(rate=0.5))\n",
        "model.add(Dense(3,activation='softmax'))\n",
        "optmizer = Adam(lr=1e-3)\n",
        "\n",
        "model.compile(optimizer=optmizer,loss='categorical_crossentropy',metrics=['accuracy'])\n"
      ],
      "execution_count": 0,
      "outputs": []
    },
    {
      "cell_type": "code",
      "metadata": {
        "id": "D2vB1QNKIGTq",
        "colab_type": "code",
        "outputId": "f9c06cfb-cfbf-473c-f168-4dfe65bdfacb",
        "colab": {
          "base_uri": "https://localhost:8080/",
          "height": 1000
        }
      },
      "source": [
        "class AccuracyHistory(keras.callbacks.Callback):\n",
        "    def on_train_begin(self, logs={}):\n",
        "        self.acc = []\n",
        "\n",
        "    def on_epoch_end(self, batch, logs={}):\n",
        "        self.acc.append(logs.get('acc'))\n",
        "\n",
        "history = AccuracyHistory()\n",
        "\n",
        "model.fit(x=tr_img_data, y=tr_lbl_data, epochs=20,batch_size=100,callbacks=[history])\n",
        "model.summary()"
      ],
      "execution_count": 30,
      "outputs": [
        {
          "output_type": "stream",
          "text": [
            "Epoch 1/20\n",
            "719/719 [==============================] - 1s 793us/step - loss: 0.0767 - acc: 0.9791\n",
            "Epoch 2/20\n",
            "719/719 [==============================] - 0s 594us/step - loss: 0.0514 - acc: 0.9833\n",
            "Epoch 3/20\n",
            "719/719 [==============================] - 0s 593us/step - loss: 0.0491 - acc: 0.9847\n",
            "Epoch 4/20\n",
            "719/719 [==============================] - 0s 599us/step - loss: 0.0493 - acc: 0.9764\n",
            "Epoch 5/20\n",
            "719/719 [==============================] - 0s 598us/step - loss: 0.0589 - acc: 0.9805\n",
            "Epoch 6/20\n",
            "719/719 [==============================] - 0s 592us/step - loss: 0.0795 - acc: 0.9708\n",
            "Epoch 7/20\n",
            "719/719 [==============================] - 0s 596us/step - loss: 0.0567 - acc: 0.9805\n",
            "Epoch 8/20\n",
            "719/719 [==============================] - 0s 590us/step - loss: 0.0576 - acc: 0.9833\n",
            "Epoch 9/20\n",
            "719/719 [==============================] - 0s 591us/step - loss: 0.0407 - acc: 0.9903\n",
            "Epoch 10/20\n",
            "719/719 [==============================] - 0s 589us/step - loss: 0.0371 - acc: 0.9861\n",
            "Epoch 11/20\n",
            "719/719 [==============================] - 0s 596us/step - loss: 0.0208 - acc: 0.9972\n",
            "Epoch 12/20\n",
            "719/719 [==============================] - 0s 597us/step - loss: 0.0193 - acc: 0.9903\n",
            "Epoch 13/20\n",
            "719/719 [==============================] - 0s 596us/step - loss: 0.0071 - acc: 1.0000\n",
            "Epoch 14/20\n",
            "719/719 [==============================] - 0s 603us/step - loss: 0.0111 - acc: 0.9958\n",
            "Epoch 15/20\n",
            "719/719 [==============================] - 0s 598us/step - loss: 0.0070 - acc: 0.9986\n",
            "Epoch 16/20\n",
            "719/719 [==============================] - 0s 600us/step - loss: 0.0085 - acc: 0.9986\n",
            "Epoch 17/20\n",
            "719/719 [==============================] - 0s 593us/step - loss: 0.0040 - acc: 1.0000\n",
            "Epoch 18/20\n",
            "719/719 [==============================] - 0s 598us/step - loss: 0.0059 - acc: 0.9986\n",
            "Epoch 19/20\n",
            "719/719 [==============================] - 0s 603us/step - loss: 0.0074 - acc: 0.9972\n",
            "Epoch 20/20\n",
            "719/719 [==============================] - 0s 601us/step - loss: 0.0064 - acc: 0.9986\n",
            "Model: \"sequential_2\"\n",
            "_________________________________________________________________\n",
            "Layer (type)                 Output Shape              Param #   \n",
            "=================================================================\n",
            "conv2d_5 (Conv2D)            (None, 100, 100, 20)      1520      \n",
            "_________________________________________________________________\n",
            "conv2d_6 (Conv2D)            (None, 100, 100, 32)      16032     \n",
            "_________________________________________________________________\n",
            "max_pooling2d_4 (MaxPooling2 (None, 20, 20, 32)        0         \n",
            "_________________________________________________________________\n",
            "conv2d_7 (Conv2D)            (None, 20, 20, 50)        40050     \n",
            "_________________________________________________________________\n",
            "max_pooling2d_5 (MaxPooling2 (None, 4, 4, 50)          0         \n",
            "_________________________________________________________________\n",
            "conv2d_8 (Conv2D)            (None, 4, 4, 80)          100080    \n",
            "_________________________________________________________________\n",
            "max_pooling2d_6 (MaxPooling2 (None, 1, 1, 80)          0         \n",
            "_________________________________________________________________\n",
            "dropout_3 (Dropout)          (None, 1, 1, 80)          0         \n",
            "_________________________________________________________________\n",
            "flatten_2 (Flatten)          (None, 80)                0         \n",
            "_________________________________________________________________\n",
            "dense_3 (Dense)              (None, 512)               41472     \n",
            "_________________________________________________________________\n",
            "dropout_4 (Dropout)          (None, 512)               0         \n",
            "_________________________________________________________________\n",
            "dense_4 (Dense)              (None, 3)                 1539      \n",
            "=================================================================\n",
            "Total params: 200,693\n",
            "Trainable params: 200,693\n",
            "Non-trainable params: 0\n",
            "_________________________________________________________________\n"
          ],
          "name": "stdout"
        }
      ]
    },
    {
      "cell_type": "code",
      "metadata": {
        "id": "aXGEZCmJFL0a",
        "colab_type": "code",
        "outputId": "f41c0f5a-527d-4708-8352-b8a7ea5a05c4",
        "colab": {
          "base_uri": "https://localhost:8080/",
          "height": 51
        }
      },
      "source": [
        "score = model.evaluate(tst_data, tst_label, verbose=0)\n",
        "print('Test loss:', score[0])\n",
        "print('Test accuracy:', score[1])\n"
      ],
      "execution_count": 31,
      "outputs": [
        {
          "output_type": "stream",
          "text": [
            "Test loss: 0.0006774580432113452\n",
            "Test accuracy: 1.0\n"
          ],
          "name": "stdout"
        }
      ]
    },
    {
      "cell_type": "code",
      "metadata": {
        "id": "8ziu3Tdtcwc7",
        "colab_type": "code",
        "colab": {}
      },
      "source": [
        "model.save('model.h5')"
      ],
      "execution_count": 0,
      "outputs": []
    },
    {
      "cell_type": "code",
      "metadata": {
        "id": "LGDrjoE7eo3_",
        "colab_type": "code",
        "colab": {}
      },
      "source": [
        "from google.colab import files\n",
        "\n",
        "files.download('model.h5')"
      ],
      "execution_count": 0,
      "outputs": []
    },
    {
      "cell_type": "code",
      "metadata": {
        "id": "Dn4qP8jdZneH",
        "colab_type": "code",
        "colab": {}
      },
      "source": [
        ""
      ],
      "execution_count": 0,
      "outputs": []
    }
  ]
}